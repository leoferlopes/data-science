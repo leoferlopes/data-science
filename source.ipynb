{
 "cells": [
  {
   "cell_type": "code",
   "execution_count": 1,
   "metadata": {
    "collapsed": true
   },
   "outputs": [],
   "source": [
    "import pandas as pd\n",
    "import numpy as np\n",
    "import matplotlib.pyplot as plt"
   ]
  },
  {
   "cell_type": "code",
   "execution_count": 9,
   "metadata": {},
   "outputs": [],
   "source": [
    "def clean_data(dataframe, renda, dict_renda=None):\n",
    "    new_dataframe = pd.DataFrame(columns=['ano', 'idade'])\n",
    "    new_dataframe['ano'] = dataframe['nu_ano']\n",
    "    new_dataframe['idade'] = dataframe['nu_idade']\n",
    "    \n",
    "    if dict_renda is None:\n",
    "        dict_renda = { 'a': 1.5, 'b': 2.25, 'c': 3.75, 'd': 5.25, 'e': 8.0, 'f': 15.0, 'g': 30.0 }\n",
    "    \n",
    "    r = dataframe[renda].str.lower()\n",
    "    \n",
    "    new_dataframe['renda'] = r.map(dict_renda)\n",
    "    # new_dataframe = new_dataframe[np.isfinite(new_dataframe['renda'])]\n",
    "\n",
    "    return new_dataframe"
   ]
  },
  {
   "cell_type": "code",
   "execution_count": 10,
   "metadata": {},
   "outputs": [],
   "source": [
    "# df08 = clean_data(pd.read_csv('microdados_enade_2008.csv', encoding='latin1', delimiter=';'))\n",
    "# df09 = clean_data(pd.read_csv('microdados_enade_2009.csv', encoding='latin1', delimiter=';'))\n",
    "dict_renda_2011 = { 'b': 1.5, 'c': 2.25, 'd': 3.75, 'e': 5.25, 'f': 8.0, 'g': 15.0, 'h': 30.0 }\n",
    "\n",
    "df10 = clean_data(pd.read_csv('microdados_enade_2010.csv', encoding='latin1', delimiter=';'), 'QE_I5')\n",
    "df11 = clean_data(pd.read_csv('microdados_enade_2011.csv', encoding='latin1', delimiter=';'), 'CO_QPP_I5', dict_renda_2011)\n",
    "df12 = clean_data(pd.read_csv('microdados_enade_2012.csv' ,encoding='latin1', delimiter=';'), 'qe_i5')\n",
    "df13 = clean_data(pd.read_csv('microdados_enade_2013.csv', delimiter=';'), 'co_rs_s7')\n",
    "df14 = clean_data(pd.read_csv('microdados_enade_2014.csv', delimiter=';', low_memory=False), 'qe_i8')\n",
    "\n",
    "dfs = [df10, df11, df12, df13, df14]"
   ]
  },
  {
   "cell_type": "code",
   "execution_count": 11,
   "metadata": {},
   "outputs": [
    {
     "data": {
      "text/html": [
       "<div>\n",
       "<style>\n",
       "    .dataframe thead tr:only-child th {\n",
       "        text-align: right;\n",
       "    }\n",
       "\n",
       "    .dataframe thead th {\n",
       "        text-align: left;\n",
       "    }\n",
       "\n",
       "    .dataframe tbody tr th {\n",
       "        vertical-align: top;\n",
       "    }\n",
       "</style>\n",
       "<table border=\"1\" class=\"dataframe\">\n",
       "  <thead>\n",
       "    <tr style=\"text-align: right;\">\n",
       "      <th></th>\n",
       "      <th>ano</th>\n",
       "      <th>idade</th>\n",
       "      <th>renda</th>\n",
       "    </tr>\n",
       "  </thead>\n",
       "  <tbody>\n",
       "    <tr>\n",
       "      <th>count</th>\n",
       "      <td>2.065002e+06</td>\n",
       "      <td>2.065002e+06</td>\n",
       "      <td>1.529002e+06</td>\n",
       "    </tr>\n",
       "    <tr>\n",
       "      <th>mean</th>\n",
       "      <td>2.011970e+03</td>\n",
       "      <td>2.886043e+01</td>\n",
       "      <td>6.723271e+00</td>\n",
       "    </tr>\n",
       "    <tr>\n",
       "      <th>std</th>\n",
       "      <td>1.424391e+00</td>\n",
       "      <td>8.199503e+00</td>\n",
       "      <td>7.165141e+00</td>\n",
       "    </tr>\n",
       "    <tr>\n",
       "      <th>min</th>\n",
       "      <td>2.010000e+03</td>\n",
       "      <td>1.400000e+01</td>\n",
       "      <td>1.500000e+00</td>\n",
       "    </tr>\n",
       "    <tr>\n",
       "      <th>25%</th>\n",
       "      <td>2.011000e+03</td>\n",
       "      <td>2.300000e+01</td>\n",
       "      <td>2.250000e+00</td>\n",
       "    </tr>\n",
       "    <tr>\n",
       "      <th>50%</th>\n",
       "      <td>2.012000e+03</td>\n",
       "      <td>2.600000e+01</td>\n",
       "      <td>3.750000e+00</td>\n",
       "    </tr>\n",
       "    <tr>\n",
       "      <th>75%</th>\n",
       "      <td>2.013000e+03</td>\n",
       "      <td>3.300000e+01</td>\n",
       "      <td>8.000000e+00</td>\n",
       "    </tr>\n",
       "    <tr>\n",
       "      <th>max</th>\n",
       "      <td>2.014000e+03</td>\n",
       "      <td>1.000000e+02</td>\n",
       "      <td>3.000000e+01</td>\n",
       "    </tr>\n",
       "  </tbody>\n",
       "</table>\n",
       "</div>"
      ],
      "text/plain": [
       "                ano         idade         renda\n",
       "count  2.065002e+06  2.065002e+06  1.529002e+06\n",
       "mean   2.011970e+03  2.886043e+01  6.723271e+00\n",
       "std    1.424391e+00  8.199503e+00  7.165141e+00\n",
       "min    2.010000e+03  1.400000e+01  1.500000e+00\n",
       "25%    2.011000e+03  2.300000e+01  2.250000e+00\n",
       "50%    2.012000e+03  2.600000e+01  3.750000e+00\n",
       "75%    2.013000e+03  3.300000e+01  8.000000e+00\n",
       "max    2.014000e+03  1.000000e+02  3.000000e+01"
      ]
     },
     "execution_count": 11,
     "metadata": {},
     "output_type": "execute_result"
    }
   ],
   "source": [
    "df = pd.DataFrame()\n",
    "\n",
    "df = df.append(dfs)\n",
    "\n",
    "df.describe()"
   ]
  },
  {
   "cell_type": "code",
   "execution_count": 13,
   "metadata": {},
   "outputs": [
    {
     "data": {
      "text/plain": [
       "array([ 15.  ,   3.75,   8.  ,    nan,  30.  ,   5.25,   1.5 ,   2.25])"
      ]
     },
     "execution_count": 13,
     "metadata": {},
     "output_type": "execute_result"
    }
   ],
   "source": [
    "df.renda.unique()"
   ]
  },
  {
   "cell_type": "code",
   "execution_count": 23,
   "metadata": {},
   "outputs": [
    {
     "data": {
      "text/plain": [
       "<matplotlib.axes._subplots.AxesSubplot at 0x7fa9ceff8e80>"
      ]
     },
     "execution_count": 23,
     "metadata": {},
     "output_type": "execute_result"
    },
    {
     "data": {
      "image/png": "[encoded data removed]",
      "text/plain": [
       "<matplotlib.figure.Figure at 0x7fa9babcff98>"
      ]
     },
     "metadata": {},
     "output_type": "display_data"
    }
   ],
   "source": [
    "%matplotlib inline\n",
    "df.boxplot(column='renda', by='ano')"
   ]
  },
  {
   "cell_type": "code",
   "execution_count": 26,
   "metadata": {},
   "outputs": [
    {
     "data": {
      "text/plain": [
       "array([[<matplotlib.axes._subplots.AxesSubplot object at 0x7fa9d1b9f588>,\n",
       "        <matplotlib.axes._subplots.AxesSubplot object at 0x7fa9cea14320>],\n",
       "       [<matplotlib.axes._subplots.AxesSubplot object at 0x7fa9cd93add8>,\n",
       "        <matplotlib.axes._subplots.AxesSubplot object at 0x7fa9ce37e6a0>],\n",
       "       [<matplotlib.axes._subplots.AxesSubplot object at 0x7fa9cd1b3278>,\n",
       "        <matplotlib.axes._subplots.AxesSubplot object at 0x7fa9cf3aaa58>]], dtype=object)"
      ]
     },
     "execution_count": 26,
     "metadata": {},
     "output_type": "execute_result"
    },
    {
     "data": {
      "image/png": "[encoded data removed]",
      "text/plain": [
       "<matplotlib.figure.Figure at 0x7fa9cff94e48>"
      ]
     },
     "metadata": {},
     "output_type": "display_data"
    }
   ],
   "source": [
    "%matplotlib inline\n",
    "df['renda'].hist(by=df['ano'])"
   ]
  }
 ],
 "metadata": {
  "kernelspec": {
   "display_name": "Python 3",
   "language": "python",
   "name": "python3"
  },
  "language_info": {
   "codemirror_mode": {
    "name": "ipython",
    "version": 3
   },
   "file_extension": ".py",
   "mimetype": "text/x-python",
   "name": "python",
   "nbconvert_exporter": "python",
   "pygments_lexer": "ipython3",
   "version": "3.5.2"
  }
 },
 "nbformat": 4,
 "nbformat_minor": 2
}
