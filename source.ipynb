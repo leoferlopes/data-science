{
 "cells": [
  {
   "cell_type": "code",
   "execution_count": 1,
   "metadata": {},
   "outputs": [],
   "source": [
    "import pandas as pd\n",
    "import numpy as np\n",
    "import matplotlib.pyplot as plt"
   ]
  },
  {
   "cell_type": "code",
   "execution_count": 2,
   "metadata": {
    "collapsed": true
   },
   "outputs": [],
   "source": [
    "def clean_data(dataframe):\n",
    "    new_dataframe = pd.DataFrame(columns=['ano', 'idade'])\n",
    "    new_dataframe['ano'] = dataframe['nu_ano']\n",
    "    new_dataframe['idade'] = dataframe['nu_idade']\n",
    "    return new_dataframe"
   ]
  },
  {
   "cell_type": "code",
   "execution_count": 16,
   "metadata": {
    "collapsed": true
   },
   "outputs": [],
   "source": [
    "df08 = clean_data(pd.read_csv('microdados_enade_2008.csv', encoding='latin1', delimiter=';'))"
   ]
  },
  {
   "cell_type": "code",
   "execution_count": 4,
   "metadata": {},
   "outputs": [],
   "source": [
    "df09 = clean_data(pd.read_csv('microdados_enade_2009.csv', encoding='latin1', delimiter=';'))\n",
    "df10 = clean_data(pd.read_csv('microdados_enade_2010.csv', encoding='latin1', delimiter=';'))\n",
    "df11 = clean_data(pd.read_csv('microdados_enade_2011.csv', encoding='latin1', delimiter=';'))\n",
    "df12 = clean_data(pd.read_csv('microdados_enade_2012.csv' ,encoding='latin1', delimiter=';'))\n",
    "df13 = clean_data(pd.read_csv('microdados_enade_2013.csv', delimiter=';'))\n",
    "df14 = clean_data(pd.read_csv('microdados_enade_2014.csv', delimiter=';', low_memory=False))"
   ]
  },
  {
   "cell_type": "code",
   "execution_count": 17,
   "metadata": {
    "collapsed": true
   },
   "outputs": [],
   "source": [
    "dfs = [df08, df09, df10, df11, df12, df13, df14]"
   ]
  },
  {
   "cell_type": "code",
   "execution_count": 18,
   "metadata": {},
   "outputs": [
    {
     "data": {
      "text/html": [
       "<div>\n",
       "<style>\n",
       "    .dataframe thead tr:only-child th {\n",
       "        text-align: right;\n",
       "    }\n",
       "\n",
       "    .dataframe thead th {\n",
       "        text-align: left;\n",
       "    }\n",
       "\n",
       "    .dataframe tbody tr th {\n",
       "        vertical-align: top;\n",
       "    }\n",
       "</style>\n",
       "<table border=\"1\" class=\"dataframe\">\n",
       "  <thead>\n",
       "    <tr style=\"text-align: right;\">\n",
       "      <th></th>\n",
       "      <th>ano</th>\n",
       "      <th>idade</th>\n",
       "    </tr>\n",
       "  </thead>\n",
       "  <tbody>\n",
       "    <tr>\n",
       "      <th>count</th>\n",
       "      <td>3.521048e+06</td>\n",
       "      <td>3.521048e+06</td>\n",
       "    </tr>\n",
       "    <tr>\n",
       "      <th>mean</th>\n",
       "      <td>2.010611e+03</td>\n",
       "      <td>2.777638e+01</td>\n",
       "    </tr>\n",
       "    <tr>\n",
       "      <th>std</th>\n",
       "      <td>1.974889e+00</td>\n",
       "      <td>8.177884e+00</td>\n",
       "    </tr>\n",
       "    <tr>\n",
       "      <th>min</th>\n",
       "      <td>2.008000e+03</td>\n",
       "      <td>0.000000e+00</td>\n",
       "    </tr>\n",
       "    <tr>\n",
       "      <th>25%</th>\n",
       "      <td>2.009000e+03</td>\n",
       "      <td>2.200000e+01</td>\n",
       "    </tr>\n",
       "    <tr>\n",
       "      <th>50%</th>\n",
       "      <td>2.010000e+03</td>\n",
       "      <td>2.500000e+01</td>\n",
       "    </tr>\n",
       "    <tr>\n",
       "      <th>75%</th>\n",
       "      <td>2.012000e+03</td>\n",
       "      <td>3.100000e+01</td>\n",
       "    </tr>\n",
       "    <tr>\n",
       "      <th>max</th>\n",
       "      <td>2.014000e+03</td>\n",
       "      <td>1.000000e+02</td>\n",
       "    </tr>\n",
       "  </tbody>\n",
       "</table>\n",
       "</div>"
      ],
      "text/plain": [
       "                ano         idade\n",
       "count  3.521048e+06  3.521048e+06\n",
       "mean   2.010611e+03  2.777638e+01\n",
       "std    1.974889e+00  8.177884e+00\n",
       "min    2.008000e+03  0.000000e+00\n",
       "25%    2.009000e+03  2.200000e+01\n",
       "50%    2.010000e+03  2.500000e+01\n",
       "75%    2.012000e+03  3.100000e+01\n",
       "max    2.014000e+03  1.000000e+02"
      ]
     },
     "execution_count": 18,
     "metadata": {},
     "output_type": "execute_result"
    }
   ],
   "source": [
    "df = pd.DataFrame()\n",
    "\n",
    "df = df.append(dfs)\n",
    "\n",
    "df.describe()"
   ]
  },
  {
   "cell_type": "code",
   "execution_count": 19,
   "metadata": {},
   "outputs": [
    {
     "data": {
      "text/plain": [
       "<matplotlib.axes._subplots.AxesSubplot at 0x7f74b98b22e8>"
      ]
     },
     "execution_count": 19,
     "metadata": {},
     "output_type": "execute_result"
    },
    {
     "data": {
      "image/png": "[encoded data removed]",
      "text/plain": [
       "<matplotlib.figure.Figure at 0x7f74b2755c18>"
      ]
     },
     "metadata": {},
     "output_type": "display_data"
    }
   ],
   "source": [
    "%matplotlib inline\n",
    "df.boxplot(column='idade', by='ano')"
   ]
  },
  {
   "cell_type": "code",
   "execution_count": 20,
   "metadata": {},
   "outputs": [
    {
     "data": {
      "text/plain": [
       "array([[<matplotlib.axes._subplots.AxesSubplot object at 0x7f74b969b5f8>,\n",
       "        <matplotlib.axes._subplots.AxesSubplot object at 0x7f74b96b1be0>,\n",
       "        <matplotlib.axes._subplots.AxesSubplot object at 0x7f74bb7ce518>],\n",
       "       [<matplotlib.axes._subplots.AxesSubplot object at 0x7f74b848edd8>,\n",
       "        <matplotlib.axes._subplots.AxesSubplot object at 0x7f74bb919048>,\n",
       "        <matplotlib.axes._subplots.AxesSubplot object at 0x7f74b823f748>],\n",
       "       [<matplotlib.axes._subplots.AxesSubplot object at 0x7f74b8c54a20>,\n",
       "        <matplotlib.axes._subplots.AxesSubplot object at 0x7f74b81bf588>,\n",
       "        <matplotlib.axes._subplots.AxesSubplot object at 0x7f74b7417978>]], dtype=object)"
      ]
     },
     "execution_count": 20,
     "metadata": {},
     "output_type": "execute_result"
    },
    {
     "data": {
      "image/png": "[encoded data removed]",
      "text/plain": [
       "<matplotlib.figure.Figure at 0x7f74b9eda630>"
      ]
     },
     "metadata": {},
     "output_type": "display_data"
    }
   ],
   "source": [
    "df['idade'].hist(bins=5,by=df['ano'])"
   ]
  }
 ],
 "metadata": {
  "kernelspec": {
   "display_name": "Python 3",
   "language": "python",
   "name": "python3"
  },
  "language_info": {
   "codemirror_mode": {
    "name": "ipython",
    "version": 3
   },
   "file_extension": ".py",
   "mimetype": "text/x-python",
   "name": "python",
   "nbconvert_exporter": "python",
   "pygments_lexer": "ipython3",
   "version": "3.5.2"
  }
 },
 "nbformat": 4,
 "nbformat_minor": 2
}
