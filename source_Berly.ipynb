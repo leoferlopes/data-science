{
 "cells": [
  {
   "cell_type": "markdown",
   "metadata": {},
   "source": [
    "# Análise exploratória dos Microdados do ENADE\n",
    "\n",
    "## Alunos:\n",
    "    - Berly Joaquin\n",
    "    - Leonardo Lopes"
   ]
  },
  {
   "cell_type": "markdown",
   "metadata": {},
   "source": [
    "## Objetivos\n",
    "\n",
    "O objetivo deste trabalho é analisar a série histórica do perfil dos participantes que realizaram a prova do ENADE. O foco será nas informações econômicas, como renda e outros fatores econômicos."
   ]
  },
  {
   "cell_type": "markdown",
   "metadata": {},
   "source": [
    "## Bibliotecas Utilizadas\n",
    "\n",
    "Para a análise feita neste trabalho, utilizamos as bibliotecas **Pandas**, **Numpy** e **Matplotlib** da linguagem Python"
   ]
  },
  {
   "cell_type": "code",
   "execution_count": 38,
   "metadata": {},
   "outputs": [],
   "source": [
    "import pandas as pd\n",
    "import numpy as np\n",
    "import matplotlib.pyplot as plt\n",
    "import subprocess\n",
    "\n",
    "from sklearn.tree import DecisionTreeClassifier, export_graphviz"
   ]
  },
  {
   "cell_type": "markdown",
   "metadata": {},
   "source": [
    "## Preparando os dados\n",
    "\n",
    "Na etapa da preparação dos dados, foi necessário tratar as informações obtidas nas bases de dados fornecidas.\n",
    "\n",
    "### Tipos de Informações\n",
    "\n",
    "* **Ano**: representa ano em que o exame foi realizado e está disponível na base de dados na coluna `nu_ano` sem maior necessidade de tratamentos de dados;\n",
    "* **Idade**: análoga à informação de ano, está disponível na base de dados de forma amigável na coluna `nu_idade` e não foi necessário tratar estes dados;\n",
    "* **Renda**: representa a renda da família em número de salários mínimos (independente do ano do exame), foi o tipo de dado que apresentou maiores dificuldades no seu tratamento, uma vez que a informação aparece com diferetes nomes de colunas na base de dados original e seus valores categórios não nos trazem grandes informações de forma imediata. Para tal, transformamos o a informação categórica em dados numéricos (a categoria foi mapeada para seu valor médio)"
   ]
  },
  {
   "cell_type": "code",
   "execution_count": 25,
   "metadata": {},
   "outputs": [],
   "source": [
    "dict_select_bolsa_13_14={ 'a': True,\n",
    "                          'b': True,\n",
    "                          'c': True,\n",
    "                          'd': True,\n",
    "                          'e': True,\n",
    "                          'g': True,\n",
    "                          'h': True,\n",
    "                          'i': True,\n",
    "                          'j': True,\n",
    "                          'k': True,\n",
    "}\n"
   ]
  },
  {
   "cell_type": "code",
   "execution_count": 26,
   "metadata": {
    "collapsed": true
   },
   "outputs": [],
   "source": [
    "def clean_data(dataframe, renda, bolsa, dict_renda=None):\n",
    "    new_dataframe = pd.DataFrame(columns=['ano', 'idade'])\n",
    "    new_dataframe['ano'] = dataframe['nu_ano']\n",
    "    new_dataframe['idade'] = dataframe['nu_idade']\n",
    "    new_dataframe['curso'] = dataframe['co_grupo']\n",
    "    new_dataframe['bolsa'] = dataframe[bolsa].str.lower()\n",
    "    \n",
    "    if dict_renda is None:\n",
    "        dict_renda = { 'a': 1.5, 'b': 2.25, 'c': 3.75, 'd': 5.25, 'e': 8.0, 'f': 15.0, 'g': 30.0 }\n",
    "    \n",
    "    r = dataframe[renda].str.lower()\n",
    "    \n",
    "    new_dataframe['renda'] = r.map(dict_renda)\n",
    "    def m(item):\n",
    "        return round(item/20)\n",
    "    new_dataframe['nota'] = dataframe['nt_ger'].map(m)\n",
    "\n",
    "    def f(i):\n",
    "        return dict_select_bolsa_13_14.get(df[\"bolsa\"][i], False)\n",
    "\n",
    "    return new_dataframe.select(f)"
   ]
  },
  {
   "cell_type": "markdown",
   "metadata": {},
   "source": [
    "### Obtendo os dados\n",
    "\n",
    "Os dados da base de dados foram obtidos a partir do arquivo .csv de cada ano"
   ]
  },
  {
   "cell_type": "code",
   "execution_count": 27,
   "metadata": {
    "collapsed": true
   },
   "outputs": [],
   "source": [
    "def is_number(s):\n",
    "    try:\n",
    "        f = float(s)\n",
    "        if f >= 0:\n",
    "            return True\n",
    "        return False\n",
    "    except ValueError:\n",
    "        return False\n"
   ]
  },
  {
   "cell_type": "code",
   "execution_count": 28,
   "metadata": {
    "collapsed": true
   },
   "outputs": [],
   "source": [
    "def select_clause(df):\n",
    "    def f(i):\n",
    "        if df[\"co_grupo\"][i] == 4004 and is_number(df[\"nt_ger\"][i]):\n",
    "            return True\n",
    "        else:\n",
    "            return False\n",
    "    return f"
   ]
  },
  {
   "cell_type": "code",
   "execution_count": 29,
   "metadata": {},
   "outputs": [],
   "source": [
    "# dict_renda_2011 = { 'b': 1.5, 'c': 2.25, 'd': 3.75, 'e': 5.25, 'f': 8.0, 'g': 15.0, 'h': 30.0 }\n",
    "\n",
    "# df10 = clean_data(pd.read_csv('microdados_enade_2010.csv', encoding='latin1', delimiter=';'), 'QE_I5', 'QE_I10')\n",
    "# df11 = clean_data(pd.read_csv('microdados_enade_2011.csv', encoding='latin1', delimiter=';'), 'co_rs_s5','co_rs_s10', dict_renda_2011)\n",
    "# df12 = clean_data(pd.read_csv('microdados_enade_2012.csv' ,encoding='latin1', delimiter=';'), 'qe_i5', 'qe_i10')\n",
    "# df13 = clean_data(pd.read_csv('microdados_enade_2013.csv', delimiter=';'), 'co_rs_s7', 'co_rs_s10' )\n",
    "data = pd.read_csv('microdados_enade_2014.csv', delimiter=';', low_memory=False)\n",
    "df14 = clean_data(data.select(select_clause(data)),  'qe_i8', 'qe_i11')\n",
    "df = df14\n",
    "\n",
    "# dfs = [df10, df11, df12, df13, df14]"
   ]
  },
  {
   "cell_type": "code",
   "execution_count": 30,
   "metadata": {},
   "outputs": [
    {
     "data": {
      "text/html": [
       "<div>\n",
       "<style>\n",
       "    .dataframe thead tr:only-child th {\n",
       "        text-align: right;\n",
       "    }\n",
       "\n",
       "    .dataframe thead th {\n",
       "        text-align: left;\n",
       "    }\n",
       "\n",
       "    .dataframe tbody tr th {\n",
       "        vertical-align: top;\n",
       "    }\n",
       "</style>\n",
       "<table border=\"1\" class=\"dataframe\">\n",
       "  <thead>\n",
       "    <tr style=\"text-align: right;\">\n",
       "      <th></th>\n",
       "      <th>ano</th>\n",
       "      <th>idade</th>\n",
       "      <th>curso</th>\n",
       "      <th>renda</th>\n",
       "      <th>nota</th>\n",
       "    </tr>\n",
       "  </thead>\n",
       "  <tbody>\n",
       "    <tr>\n",
       "      <th>count</th>\n",
       "      <td>8174.00</td>\n",
       "      <td>8174.00</td>\n",
       "      <td>8174.00</td>\n",
       "      <td>8174.00</td>\n",
       "      <td>8174.00</td>\n",
       "    </tr>\n",
       "    <tr>\n",
       "      <th>mean</th>\n",
       "      <td>2014.00</td>\n",
       "      <td>25.28</td>\n",
       "      <td>4004.00</td>\n",
       "      <td>6.55</td>\n",
       "      <td>2.23</td>\n",
       "    </tr>\n",
       "    <tr>\n",
       "      <th>std</th>\n",
       "      <td>0.00</td>\n",
       "      <td>4.39</td>\n",
       "      <td>0.00</td>\n",
       "      <td>5.25</td>\n",
       "      <td>0.74</td>\n",
       "    </tr>\n",
       "    <tr>\n",
       "      <th>min</th>\n",
       "      <td>2014.00</td>\n",
       "      <td>18.00</td>\n",
       "      <td>4004.00</td>\n",
       "      <td>1.50</td>\n",
       "      <td>0.00</td>\n",
       "    </tr>\n",
       "    <tr>\n",
       "      <th>25%</th>\n",
       "      <td>2014.00</td>\n",
       "      <td>22.00</td>\n",
       "      <td>4004.00</td>\n",
       "      <td>2.25</td>\n",
       "      <td>2.00</td>\n",
       "    </tr>\n",
       "    <tr>\n",
       "      <th>50%</th>\n",
       "      <td>2014.00</td>\n",
       "      <td>24.00</td>\n",
       "      <td>4004.00</td>\n",
       "      <td>5.25</td>\n",
       "      <td>2.00</td>\n",
       "    </tr>\n",
       "    <tr>\n",
       "      <th>75%</th>\n",
       "      <td>2014.00</td>\n",
       "      <td>27.00</td>\n",
       "      <td>4004.00</td>\n",
       "      <td>8.00</td>\n",
       "      <td>3.00</td>\n",
       "    </tr>\n",
       "    <tr>\n",
       "      <th>max</th>\n",
       "      <td>2014.00</td>\n",
       "      <td>65.00</td>\n",
       "      <td>4004.00</td>\n",
       "      <td>30.00</td>\n",
       "      <td>5.00</td>\n",
       "    </tr>\n",
       "  </tbody>\n",
       "</table>\n",
       "</div>"
      ],
      "text/plain": [
       "          ano   idade   curso   renda    nota\n",
       "count 8174.00 8174.00 8174.00 8174.00 8174.00\n",
       "mean  2014.00   25.28 4004.00    6.55    2.23\n",
       "std      0.00    4.39    0.00    5.25    0.74\n",
       "min   2014.00   18.00 4004.00    1.50    0.00\n",
       "25%   2014.00   22.00 4004.00    2.25    2.00\n",
       "50%   2014.00   24.00 4004.00    5.25    2.00\n",
       "75%   2014.00   27.00 4004.00    8.00    3.00\n",
       "max   2014.00   65.00 4004.00   30.00    5.00"
      ]
     },
     "execution_count": 30,
     "metadata": {},
     "output_type": "execute_result"
    }
   ],
   "source": [
    "# df = pd.DataFrame()\n",
    "\n",
    "# df = df.append(dfs)\n",
    "pd.options.display.float_format = '{:.2f}'.format\n",
    "\n",
    "df.describe()"
   ]
  },
  {
   "cell_type": "code",
   "execution_count": 31,
   "metadata": {},
   "outputs": [
    {
     "data": {
      "text/plain": [
       "array(['a', 'h', 'i', 'c', 'b', 'j', 'e', 'k', 'd', 'g'], dtype=object)"
      ]
     },
     "execution_count": 31,
     "metadata": {},
     "output_type": "execute_result"
    }
   ],
   "source": [
    "df.bolsa.unique()"
   ]
  },
  {
   "cell_type": "code",
   "execution_count": 32,
   "metadata": {},
   "outputs": [
    {
     "data": {
      "text/plain": [
       "DecisionTreeClassifier(class_weight=None, criterion='gini', max_depth=None,\n",
       "            max_features=None, max_leaf_nodes=None,\n",
       "            min_impurity_split=1e-07, min_samples_leaf=1,\n",
       "            min_samples_split=20, min_weight_fraction_leaf=0.0,\n",
       "            presort=False, random_state=99, splitter='best')"
      ]
     },
     "execution_count": 32,
     "metadata": {},
     "output_type": "execute_result"
    }
   ],
   "source": [
    "atributos = [\"idade\", \"renda\", \"nota\"]\n",
    "categoria = df[\"bolsa\"]\n",
    "dataframe = df[atributos]\n",
    "dt = DecisionTreeClassifier(min_samples_split=20, random_state=99)\n",
    "dt.fit(dataframe, categoria)"
   ]
  },
  {
   "cell_type": "code",
   "execution_count": 59,
   "metadata": {},
   "outputs": [
    {
     "ename": "IndexError",
     "evalue": "list index out of range",
     "output_type": "error",
     "traceback": [
      "\u001b[0;31m---------------------------------------------------------------------------\u001b[0m",
      "\u001b[0;31mIndexError\u001b[0m                                Traceback (most recent call last)",
      "\u001b[0;32m<ipython-input-59-99ee8d3a12a7>\u001b[0m in \u001b[0;36m<module>\u001b[0;34m()\u001b[0m\n\u001b[1;32m     27\u001b[0m                          \u001b[0mclass_names\u001b[0m\u001b[0;34m=\u001b[0m\u001b[0matributos\u001b[0m\u001b[0;34m,\u001b[0m\u001b[0;34m\u001b[0m\u001b[0m\n\u001b[1;32m     28\u001b[0m                          \u001b[0mfilled\u001b[0m\u001b[0;34m=\u001b[0m\u001b[0;32mTrue\u001b[0m\u001b[0;34m,\u001b[0m \u001b[0mrounded\u001b[0m\u001b[0;34m=\u001b[0m\u001b[0;32mTrue\u001b[0m\u001b[0;34m,\u001b[0m\u001b[0;34m\u001b[0m\u001b[0m\n\u001b[0;32m---> 29\u001b[0;31m                          special_characters=True)\n\u001b[0m\u001b[1;32m     30\u001b[0m \u001b[0mgraph\u001b[0m \u001b[0;34m=\u001b[0m \u001b[0mpydotplus\u001b[0m\u001b[0;34m.\u001b[0m\u001b[0mgraph_from_dot_data\u001b[0m\u001b[0;34m(\u001b[0m\u001b[0mdot_data\u001b[0m\u001b[0;34m)\u001b[0m\u001b[0;34m\u001b[0m\u001b[0m\n\u001b[1;32m     31\u001b[0m \u001b[0mImage\u001b[0m\u001b[0;34m(\u001b[0m\u001b[0mgraph\u001b[0m\u001b[0;34m.\u001b[0m\u001b[0mcreate_png\u001b[0m\u001b[0;34m(\u001b[0m\u001b[0;34m)\u001b[0m\u001b[0;34m)\u001b[0m\u001b[0;34m\u001b[0m\u001b[0m\n",
      "\u001b[0;32m/usr/local/lib/python3.5/dist-packages/sklearn/tree/export.py\u001b[0m in \u001b[0;36mexport_graphviz\u001b[0;34m(decision_tree, out_file, max_depth, feature_names, class_names, label, filled, leaves_parallel, impurity, node_ids, proportion, rotate, rounded, special_characters)\u001b[0m\n\u001b[1;32m    431\u001b[0m             \u001b[0mrecurse\u001b[0m\u001b[0;34m(\u001b[0m\u001b[0mdecision_tree\u001b[0m\u001b[0;34m,\u001b[0m \u001b[0;36m0\u001b[0m\u001b[0;34m,\u001b[0m \u001b[0mcriterion\u001b[0m\u001b[0;34m=\u001b[0m\u001b[0;34m\"impurity\"\u001b[0m\u001b[0;34m)\u001b[0m\u001b[0;34m\u001b[0m\u001b[0m\n\u001b[1;32m    432\u001b[0m         \u001b[0;32melse\u001b[0m\u001b[0;34m:\u001b[0m\u001b[0;34m\u001b[0m\u001b[0m\n\u001b[0;32m--> 433\u001b[0;31m             \u001b[0mrecurse\u001b[0m\u001b[0;34m(\u001b[0m\u001b[0mdecision_tree\u001b[0m\u001b[0;34m.\u001b[0m\u001b[0mtree_\u001b[0m\u001b[0;34m,\u001b[0m \u001b[0;36m0\u001b[0m\u001b[0;34m,\u001b[0m \u001b[0mcriterion\u001b[0m\u001b[0;34m=\u001b[0m\u001b[0mdecision_tree\u001b[0m\u001b[0;34m.\u001b[0m\u001b[0mcriterion\u001b[0m\u001b[0;34m)\u001b[0m\u001b[0;34m\u001b[0m\u001b[0m\n\u001b[0m\u001b[1;32m    434\u001b[0m \u001b[0;34m\u001b[0m\u001b[0m\n\u001b[1;32m    435\u001b[0m         \u001b[0;31m# If required, draw leaf nodes at same depth as each other\u001b[0m\u001b[0;34m\u001b[0m\u001b[0;34m\u001b[0m\u001b[0m\n",
      "\u001b[0;32m/usr/local/lib/python3.5/dist-packages/sklearn/tree/export.py\u001b[0m in \u001b[0;36mrecurse\u001b[0;34m(tree, node_id, criterion, parent, depth)\u001b[0m\n\u001b[1;32m    361\u001b[0m             \u001b[0;32mif\u001b[0m \u001b[0mleft_child\u001b[0m \u001b[0;34m!=\u001b[0m \u001b[0m_tree\u001b[0m\u001b[0;34m.\u001b[0m\u001b[0mTREE_LEAF\u001b[0m\u001b[0;34m:\u001b[0m\u001b[0;34m\u001b[0m\u001b[0m\n\u001b[1;32m    362\u001b[0m                 recurse(tree, left_child, criterion=criterion, parent=node_id,\n\u001b[0;32m--> 363\u001b[0;31m                         depth=depth + 1)\n\u001b[0m\u001b[1;32m    364\u001b[0m                 recurse(tree, right_child, criterion=criterion, parent=node_id,\n\u001b[1;32m    365\u001b[0m                         depth=depth + 1)\n",
      "\u001b[0;32m/usr/local/lib/python3.5/dist-packages/sklearn/tree/export.py\u001b[0m in \u001b[0;36mrecurse\u001b[0;34m(tree, node_id, criterion, parent, depth)\u001b[0m\n\u001b[1;32m    361\u001b[0m             \u001b[0;32mif\u001b[0m \u001b[0mleft_child\u001b[0m \u001b[0;34m!=\u001b[0m \u001b[0m_tree\u001b[0m\u001b[0;34m.\u001b[0m\u001b[0mTREE_LEAF\u001b[0m\u001b[0;34m:\u001b[0m\u001b[0;34m\u001b[0m\u001b[0m\n\u001b[1;32m    362\u001b[0m                 recurse(tree, left_child, criterion=criterion, parent=node_id,\n\u001b[0;32m--> 363\u001b[0;31m                         depth=depth + 1)\n\u001b[0m\u001b[1;32m    364\u001b[0m                 recurse(tree, right_child, criterion=criterion, parent=node_id,\n\u001b[1;32m    365\u001b[0m                         depth=depth + 1)\n",
      "\u001b[0;32m/usr/local/lib/python3.5/dist-packages/sklearn/tree/export.py\u001b[0m in \u001b[0;36mrecurse\u001b[0;34m(tree, node_id, criterion, parent, depth)\u001b[0m\n\u001b[1;32m    361\u001b[0m             \u001b[0;32mif\u001b[0m \u001b[0mleft_child\u001b[0m \u001b[0;34m!=\u001b[0m \u001b[0m_tree\u001b[0m\u001b[0;34m.\u001b[0m\u001b[0mTREE_LEAF\u001b[0m\u001b[0;34m:\u001b[0m\u001b[0;34m\u001b[0m\u001b[0m\n\u001b[1;32m    362\u001b[0m                 recurse(tree, left_child, criterion=criterion, parent=node_id,\n\u001b[0;32m--> 363\u001b[0;31m                         depth=depth + 1)\n\u001b[0m\u001b[1;32m    364\u001b[0m                 recurse(tree, right_child, criterion=criterion, parent=node_id,\n\u001b[1;32m    365\u001b[0m                         depth=depth + 1)\n",
      "\u001b[0;32m/usr/local/lib/python3.5/dist-packages/sklearn/tree/export.py\u001b[0m in \u001b[0;36mrecurse\u001b[0;34m(tree, node_id, criterion, parent, depth)\u001b[0m\n\u001b[1;32m    361\u001b[0m             \u001b[0;32mif\u001b[0m \u001b[0mleft_child\u001b[0m \u001b[0;34m!=\u001b[0m \u001b[0m_tree\u001b[0m\u001b[0;34m.\u001b[0m\u001b[0mTREE_LEAF\u001b[0m\u001b[0;34m:\u001b[0m\u001b[0;34m\u001b[0m\u001b[0m\n\u001b[1;32m    362\u001b[0m                 recurse(tree, left_child, criterion=criterion, parent=node_id,\n\u001b[0;32m--> 363\u001b[0;31m                         depth=depth + 1)\n\u001b[0m\u001b[1;32m    364\u001b[0m                 recurse(tree, right_child, criterion=criterion, parent=node_id,\n\u001b[1;32m    365\u001b[0m                         depth=depth + 1)\n",
      "\u001b[0;32m/usr/local/lib/python3.5/dist-packages/sklearn/tree/export.py\u001b[0m in \u001b[0;36mrecurse\u001b[0;34m(tree, node_id, criterion, parent, depth)\u001b[0m\n\u001b[1;32m    361\u001b[0m             \u001b[0;32mif\u001b[0m \u001b[0mleft_child\u001b[0m \u001b[0;34m!=\u001b[0m \u001b[0m_tree\u001b[0m\u001b[0;34m.\u001b[0m\u001b[0mTREE_LEAF\u001b[0m\u001b[0;34m:\u001b[0m\u001b[0;34m\u001b[0m\u001b[0m\n\u001b[1;32m    362\u001b[0m                 recurse(tree, left_child, criterion=criterion, parent=node_id,\n\u001b[0;32m--> 363\u001b[0;31m                         depth=depth + 1)\n\u001b[0m\u001b[1;32m    364\u001b[0m                 recurse(tree, right_child, criterion=criterion, parent=node_id,\n\u001b[1;32m    365\u001b[0m                         depth=depth + 1)\n",
      "\u001b[0;32m/usr/local/lib/python3.5/dist-packages/sklearn/tree/export.py\u001b[0m in \u001b[0;36mrecurse\u001b[0;34m(tree, node_id, criterion, parent, depth)\u001b[0m\n\u001b[1;32m    361\u001b[0m             \u001b[0;32mif\u001b[0m \u001b[0mleft_child\u001b[0m \u001b[0;34m!=\u001b[0m \u001b[0m_tree\u001b[0m\u001b[0;34m.\u001b[0m\u001b[0mTREE_LEAF\u001b[0m\u001b[0;34m:\u001b[0m\u001b[0;34m\u001b[0m\u001b[0m\n\u001b[1;32m    362\u001b[0m                 recurse(tree, left_child, criterion=criterion, parent=node_id,\n\u001b[0;32m--> 363\u001b[0;31m                         depth=depth + 1)\n\u001b[0m\u001b[1;32m    364\u001b[0m                 recurse(tree, right_child, criterion=criterion, parent=node_id,\n\u001b[1;32m    365\u001b[0m                         depth=depth + 1)\n",
      "\u001b[0;32m/usr/local/lib/python3.5/dist-packages/sklearn/tree/export.py\u001b[0m in \u001b[0;36mrecurse\u001b[0;34m(tree, node_id, criterion, parent, depth)\u001b[0m\n\u001b[1;32m    361\u001b[0m             \u001b[0;32mif\u001b[0m \u001b[0mleft_child\u001b[0m \u001b[0;34m!=\u001b[0m \u001b[0m_tree\u001b[0m\u001b[0;34m.\u001b[0m\u001b[0mTREE_LEAF\u001b[0m\u001b[0;34m:\u001b[0m\u001b[0;34m\u001b[0m\u001b[0m\n\u001b[1;32m    362\u001b[0m                 recurse(tree, left_child, criterion=criterion, parent=node_id,\n\u001b[0;32m--> 363\u001b[0;31m                         depth=depth + 1)\n\u001b[0m\u001b[1;32m    364\u001b[0m                 recurse(tree, right_child, criterion=criterion, parent=node_id,\n\u001b[1;32m    365\u001b[0m                         depth=depth + 1)\n",
      "\u001b[0;32m/usr/local/lib/python3.5/dist-packages/sklearn/tree/export.py\u001b[0m in \u001b[0;36mrecurse\u001b[0;34m(tree, node_id, criterion, parent, depth)\u001b[0m\n\u001b[1;32m    361\u001b[0m             \u001b[0;32mif\u001b[0m \u001b[0mleft_child\u001b[0m \u001b[0;34m!=\u001b[0m \u001b[0m_tree\u001b[0m\u001b[0;34m.\u001b[0m\u001b[0mTREE_LEAF\u001b[0m\u001b[0;34m:\u001b[0m\u001b[0;34m\u001b[0m\u001b[0m\n\u001b[1;32m    362\u001b[0m                 recurse(tree, left_child, criterion=criterion, parent=node_id,\n\u001b[0;32m--> 363\u001b[0;31m                         depth=depth + 1)\n\u001b[0m\u001b[1;32m    364\u001b[0m                 recurse(tree, right_child, criterion=criterion, parent=node_id,\n\u001b[1;32m    365\u001b[0m                         depth=depth + 1)\n",
      "\u001b[0;32m/usr/local/lib/python3.5/dist-packages/sklearn/tree/export.py\u001b[0m in \u001b[0;36mrecurse\u001b[0;34m(tree, node_id, criterion, parent, depth)\u001b[0m\n\u001b[1;32m    319\u001b[0m             out_file.write('%d [label=%s'\n\u001b[1;32m    320\u001b[0m                            % (node_id,\n\u001b[0;32m--> 321\u001b[0;31m                               node_to_str(tree, node_id, criterion)))\n\u001b[0m\u001b[1;32m    322\u001b[0m \u001b[0;34m\u001b[0m\u001b[0m\n\u001b[1;32m    323\u001b[0m             \u001b[0;32mif\u001b[0m \u001b[0mfilled\u001b[0m\u001b[0;34m:\u001b[0m\u001b[0;34m\u001b[0m\u001b[0m\n",
      "\u001b[0;32m/usr/local/lib/python3.5/dist-packages/sklearn/tree/export.py\u001b[0m in \u001b[0;36mnode_to_str\u001b[0;34m(tree, node_id, criterion)\u001b[0m\n\u001b[1;32m    284\u001b[0m                 \u001b[0mnode_string\u001b[0m \u001b[0;34m+=\u001b[0m \u001b[0;34m'class = '\u001b[0m\u001b[0;34m\u001b[0m\u001b[0m\n\u001b[1;32m    285\u001b[0m             \u001b[0;32mif\u001b[0m \u001b[0mclass_names\u001b[0m \u001b[0;32mis\u001b[0m \u001b[0;32mnot\u001b[0m \u001b[0;32mTrue\u001b[0m\u001b[0;34m:\u001b[0m\u001b[0;34m\u001b[0m\u001b[0m\n\u001b[0;32m--> 286\u001b[0;31m                 \u001b[0mclass_name\u001b[0m \u001b[0;34m=\u001b[0m \u001b[0mclass_names\u001b[0m\u001b[0;34m[\u001b[0m\u001b[0mnp\u001b[0m\u001b[0;34m.\u001b[0m\u001b[0margmax\u001b[0m\u001b[0;34m(\u001b[0m\u001b[0mvalue\u001b[0m\u001b[0;34m)\u001b[0m\u001b[0;34m]\u001b[0m\u001b[0;34m\u001b[0m\u001b[0m\n\u001b[0m\u001b[1;32m    287\u001b[0m             \u001b[0;32melse\u001b[0m\u001b[0;34m:\u001b[0m\u001b[0;34m\u001b[0m\u001b[0m\n\u001b[1;32m    288\u001b[0m                 class_name = \"y%s%s%s\" % (characters[1],\n",
      "\u001b[0;31mIndexError\u001b[0m: list index out of range"
     ]
    }
   ],
   "source": [
    "# http://chrisstrelioff.ws/sandbox/2015/06/08/decision_trees_in_python_with_scikit_learn_and_pandas.html\n",
    "def visualize_tree(tree, feature_names):\n",
    "    \"\"\"Create tree png using graphviz.\n",
    "\n",
    "    Args\n",
    "    ----\n",
    "    tree -- scikit-learn DecsisionTree.\n",
    "    feature_names -- list of feature names.\n",
    "    \"\"\"\n",
    "    with open(\"dt.dot\", 'w') as f:\n",
    "        export_graphviz(tree, out_file=f,\n",
    "                        feature_names=feature_names)\n",
    "\n",
    "    command = [\"dot\", \"-Tpng\", \"dt.dot\", \"-o\", \"dt.png\"]\n",
    "    try:\n",
    "        subprocess.check_call(command)\n",
    "    except:\n",
    "        exit(\"Could not run dot, ie graphviz, to \"\n",
    "             \"produce visualization\")\n",
    "%matplotlib inline\n",
    "visualize_tree(dt, atributos)\n",
    "\n",
    "\n",
    "from IPython.display import Image\n",
    "dot_data = export_graphviz(dt, out_file=None, \n",
    "                         feature_names=atributos,  \n",
    "                         class_names=atributos,  \n",
    "                         filled=True, rounded=True,  \n",
    "                         special_characters=True)\n",
    "graph = pydotplus.graph_from_dot_data(dot_data)\n",
    "Image(graph.create_png())"
   ]
  },
  {
   "cell_type": "markdown",
   "metadata": {},
   "source": [
    "### Visualizando a Distribuição dos Dados\n",
    "\n",
    "Para melhorar a visualização dos dados, montamos um bloxplot com os dados da renda dos candidatos do ENADE.\n",
    "\n",
    "Analisando os últimos 5 anos da base, foi possível notar que no ano de 2012 houve um pico nos dados de renda e seus valores estao acima dos dados dos outros anos."
   ]
  },
  {
   "cell_type": "code",
   "execution_count": 13,
   "metadata": {},
   "outputs": [
    {
     "data": {
      "text/plain": [
       "<matplotlib.axes._subplots.AxesSubplot at 0x7f43371f8198>"
      ]
     },
     "execution_count": 13,
     "metadata": {},
     "output_type": "execute_result"
    },
    {
     "data": {
      "image/png": "[encoded data removed]",
      "text/plain": [
       "<matplotlib.figure.Figure at 0x7f43371f8be0>"
      ]
     },
     "metadata": {},
     "output_type": "display_data"
    }
   ],
   "source": [
    "%matplotlib inline\n",
    "df.boxplot(column='renda', by='ano')"
   ]
  },
  {
   "cell_type": "markdown",
   "metadata": {},
   "source": [
    "Além disso, montamos um histogrma-para a visualização destes dados de outra forma:"
   ]
  },
  {
   "cell_type": "code",
   "execution_count": 14,
   "metadata": {},
   "outputs": [
    {
     "data": {
      "text/plain": [
       "<matplotlib.axes._subplots.AxesSubplot at 0x7f435512ac50>"
      ]
     },
     "execution_count": 14,
     "metadata": {},
     "output_type": "execute_result"
    },
    {
     "data": {
      "image/png": "[encoded data removed]",
      "text/plain": [
       "<matplotlib.figure.Figure at 0x7f436ca52668>"
      ]
     },
     "metadata": {},
     "output_type": "display_data"
    }
   ],
   "source": [
    "%matplotlib inline\n",
    "df['renda'].hist(by=df['ano'])"
   ]
  },
  {
   "cell_type": "markdown",
   "metadata": {},
   "source": [
    "Agora vamos a distribuição univariada do dado tipo de bolsa, ao ser um dado categórico faremos uma análise de barra de caracteres.\n",
    "Primeiro iremos definir os dicionários que utilizaremos para esta análise"
   ]
  },
  {
   "cell_type": "code",
   "execution_count": 8,
   "metadata": {
    "collapsed": true
   },
   "outputs": [],
   "source": [
    "#dict_bolsa_10_11_12  Esta variavel servirá como dicionario para os anos 2010, 2011 e 2012   \n",
    "dict_bolsa_10_11_12 = {'a': 'ProUni Integral', \n",
    "                       'b': 'ProUni Parcial', \n",
    "                       'c': 'FIES', \n",
    "                       'd':'ProUni Parcial e FIES',\n",
    "                       'e':'Otra do estado', \n",
    "                       'f':'Ofrecida pela própia instituição de ensino', \n",
    "                       'g': 'Empresa, ONG, etc', \n",
    "                       'h':'Financiamiento pela própia institução de ensino', \n",
    "                       'i':'Financiamento pelo banco privado, etc', \n",
    "                       'j':'Mais de um dos tipos de bolsa ou financiamento citados'}\n",
    "\n",
    "# dict_bolsa_13_14 Esta variavel servirá como dicionario para os anos 2013 e 2014\n",
    "\n",
    "dict_bolsa_13_14={'a': 'Nenhum, pois meu curso é gratuito',\n",
    "                  'b':'Nenhum, embora meu curso não seja gratuito',\n",
    "                  'c':'ProUni integral', \n",
    "                  'd':'ProUni parcial, apenas',\n",
    "                  'e':'FIES, apenas', 'f': 'ProUni Parcial e FIES',\n",
    "                  'g':'Bolsa oferecida por governo estadual, distrital ou municipal', \n",
    "                  'h' :'Bolsa oferecida pela própria instituição', \n",
    "                  'i':'Bolsa oferecida por outra entidade (empresa, ONG, outra)', \n",
    "                  'j' : 'Financiamento oferecido pela própria instituição',\n",
    "                  'k': 'Financiamento bancário'}\n"
   ]
  },
  {
   "cell_type": "markdown",
   "metadata": {},
   "source": [
    "Uma vez criada as variáveis passaremos a mapear cada DataFrame."
   ]
  },
  {
   "cell_type": "code",
   "execution_count": 10,
   "metadata": {
    "collapsed": true
   },
   "outputs": [],
   "source": [
    "# Mapeando o ano 2010\n",
    "\"\"\"\n",
    "p10=df10['bolsa'].str.lower()\n",
    "df10['bolsa']=p10.map(dict_bolsa_10_11_12)\n",
    "\n",
    "# Mapeando o ano 2011\n",
    "p11=df11['bolsa'].str.lower()\n",
    "df11['bolsa']=p11.map(dict_bolsa_10_11_12)\n",
    "\n",
    "# Mapeando o ano 2012\n",
    "p12=df12['bolsa'].str.lower()\n",
    "df12['bolsa']=p12.map(dict_bolsa_10_11_12)\n",
    "\n",
    "# Mapeando o ano 2013\n",
    "p13=df13['bolsa'].str.lower()\n",
    "df13['bolsa']=p13.map(dict_bolsa_13_14)\n",
    "\"\"\"\n",
    "# Mapeando o ano 2014\n",
    "p14=df14['bolsa'].str.lower()\n",
    "df14['bolsa']=p14.map(dict_bolsa_13_14)\n",
    "\n",
    "\n"
   ]
  },
  {
   "cell_type": "markdown",
   "metadata": {},
   "source": [
    "Agora vamos plotar um grafico de barras de caracter para observar a distribuição do tipo de carteira pela cada ano."
   ]
  },
  {
   "cell_type": "code",
   "execution_count": null,
   "metadata": {
    "collapsed": true
   },
   "outputs": [],
   "source": [
    "\n",
    "#------------------------------------- ANO 2010 --------------------------------------------------\n",
    "\n",
    "df10_tot=df10['bolsa'].value_counts(ascending=True)\n",
    "df10_tot\n"
   ]
  },
  {
   "cell_type": "code",
   "execution_count": null,
   "metadata": {
    "collapsed": true
   },
   "outputs": [],
   "source": [
    "df10_tot.plot.barh()"
   ]
  },
  {
   "cell_type": "code",
   "execution_count": null,
   "metadata": {
    "collapsed": true
   },
   "outputs": [],
   "source": [
    "\n",
    "#------------------------------------------ ANO 2011---------------------------------------------------\n",
    "\n",
    "df11_tot=df11['bolsa'].value_counts(ascending=True)\n",
    "df11_tot"
   ]
  },
  {
   "cell_type": "code",
   "execution_count": null,
   "metadata": {
    "collapsed": true
   },
   "outputs": [],
   "source": [
    "df11_tot.plot.barh()"
   ]
  },
  {
   "cell_type": "code",
   "execution_count": null,
   "metadata": {
    "collapsed": true
   },
   "outputs": [],
   "source": [
    "\n",
    "#------------------------------------------ ANO 2012---------------------------------------------------\n",
    "\n",
    "df12_tot=df12['bolsa'].value_counts(ascending=True)\n",
    "df12_tot\n"
   ]
  },
  {
   "cell_type": "code",
   "execution_count": null,
   "metadata": {
    "collapsed": true
   },
   "outputs": [],
   "source": [
    "df12_tot.plot.barh()"
   ]
  },
  {
   "cell_type": "code",
   "execution_count": null,
   "metadata": {
    "collapsed": true
   },
   "outputs": [],
   "source": [
    "\n",
    "#------------------------------------------ ANO 2013---------------------------------------------------\n",
    "\n",
    "def13_tot=df13['bolsa'].value_counts(ascending=True)\n",
    "def13_tot\n"
   ]
  },
  {
   "cell_type": "code",
   "execution_count": null,
   "metadata": {
    "collapsed": true,
    "scrolled": true
   },
   "outputs": [],
   "source": [
    "def13_tot.plot.barh()"
   ]
  },
  {
   "cell_type": "code",
   "execution_count": 11,
   "metadata": {},
   "outputs": [
    {
     "data": {
      "text/plain": [
       "Financiamento bancário                                            2172\n",
       "ProUni Parcial e FIES                                             2949\n",
       "Financiamento oferecido pela própria instituição                  4722\n",
       "ProUni parcial, apenas                                            6676\n",
       "Bolsa oferecida por outra entidade (empresa, ONG, outra)          9196\n",
       "Bolsa oferecida por governo estadual, distrital ou municipal     15785\n",
       "ProUni integral                                                  19970\n",
       "Bolsa oferecida pela própria instituição                         31647\n",
       "FIES, apenas                                                     33658\n",
       "Nenhum, embora meu curso não seja gratuito                      143964\n",
       "Nenhum, pois meu curso é gratuito                               147404\n",
       "Name: bolsa, dtype: int64"
      ]
     },
     "execution_count": 11,
     "metadata": {},
     "output_type": "execute_result"
    }
   ],
   "source": [
    "\n",
    "#------------------------------------------ ANO 2014---------------------------------------------------\n",
    "\n",
    "def14_tot=df14['bolsa'].value_counts(ascending=True)\n",
    "def14_tot\n"
   ]
  },
  {
   "cell_type": "code",
   "execution_count": 12,
   "metadata": {},
   "outputs": [
    {
     "data": {
      "text/plain": [
       "<matplotlib.axes._subplots.AxesSubplot at 0x7f191558bcf8>"
      ]
     },
     "execution_count": 12,
     "metadata": {},
     "output_type": "execute_result"
    },
    {
     "data": {
      "image/png": "[encoded data removed]",
      "text/plain": [
       "<matplotlib.figure.Figure at 0x7f1912eb4f28>"
      ]
     },
     "metadata": {},
     "output_type": "display_data"
    }
   ],
   "source": [
    "def14_tot.plot.barh()"
   ]
  },
  {
   "cell_type": "markdown",
   "metadata": {},
   "source": [
    "### Análise Bivariada\n",
    "\n",
    "Agora vamos fazer uma análise Bivariada a nível descritivo e visual entre as variáveis renda e tipo de bolsa."
   ]
  },
  {
   "cell_type": "code",
   "execution_count": null,
   "metadata": {
    "collapsed": true
   },
   "outputs": [],
   "source": [
    "\n",
    "#------------------------------------------ ANO 2010---------------------------------------------------\n",
    "\n",
    "bi10=pd.crosstab(df10['bolsa'], df10['renda'])\n",
    "bi10"
   ]
  },
  {
   "cell_type": "code",
   "execution_count": null,
   "metadata": {
    "collapsed": true
   },
   "outputs": [],
   "source": [
    "bi10.plot.barh(stacked=True, width=0.7, grid=False)"
   ]
  },
  {
   "cell_type": "code",
   "execution_count": null,
   "metadata": {
    "collapsed": true
   },
   "outputs": [],
   "source": [
    "\n",
    "#------------------------------------------ ANO 2011---------------------------------------------------\n",
    "\n",
    "bi11=pd.crosstab(df11['bolsa'], df11['renda'])\n",
    "bi11"
   ]
  },
  {
   "cell_type": "code",
   "execution_count": null,
   "metadata": {
    "collapsed": true
   },
   "outputs": [],
   "source": [
    "bi11.plot.barh(stacked=True, width=0.7, grid=False)"
   ]
  },
  {
   "cell_type": "code",
   "execution_count": null,
   "metadata": {
    "collapsed": true
   },
   "outputs": [],
   "source": [
    "\n",
    "#------------------------------------------ ANO 2012---------------------------------------------------\n",
    "\n",
    "bi12=pd.crosstab(df12['bolsa'], df12['renda'])\n",
    "bi12\n"
   ]
  },
  {
   "cell_type": "code",
   "execution_count": null,
   "metadata": {
    "collapsed": true
   },
   "outputs": [],
   "source": [
    "bi12.plot.barh(stacked=True, width=0.7, grid=False)"
   ]
  },
  {
   "cell_type": "code",
   "execution_count": null,
   "metadata": {
    "collapsed": true
   },
   "outputs": [],
   "source": [
    "\n",
    "#------------------------------------------ ANO 2013---------------------------------------------------\n",
    "\n",
    "bi13=pd.crosstab(df13['bolsa'], df13['renda'])\n",
    "bi13\n"
   ]
  },
  {
   "cell_type": "code",
   "execution_count": null,
   "metadata": {
    "collapsed": true
   },
   "outputs": [],
   "source": [
    "bi13.plot.barh(stacked=True, width=0.7, grid=False)"
   ]
  },
  {
   "cell_type": "code",
   "execution_count": null,
   "metadata": {
    "collapsed": true
   },
   "outputs": [],
   "source": [
    "\n",
    "#------------------------------------------ ANO 2014---------------------------------------------------\n",
    "\n",
    "bi14=pd.crosstab(df14['bolsa'], df14['renda'])\n",
    "bi14\n"
   ]
  },
  {
   "cell_type": "code",
   "execution_count": null,
   "metadata": {
    "collapsed": true
   },
   "outputs": [],
   "source": [
    "bi14.plot.barh(stacked=True, width=0.7, grid=False)"
   ]
  },
  {
   "cell_type": "code",
   "execution_count": null,
   "metadata": {
    "collapsed": true
   },
   "outputs": [],
   "source": []
  }
 ],
 "metadata": {
  "kernelspec": {
   "display_name": "Python 3",
   "language": "python",
   "name": "python3"
  },
  "language_info": {
   "codemirror_mode": {
    "name": "ipython",
    "version": 3
   },
   "file_extension": ".py",
   "mimetype": "text/x-python",
   "name": "python",
   "nbconvert_exporter": "python",
   "pygments_lexer": "ipython3",
   "version": "3.5.2"
  }
 },
 "nbformat": 4,
 "nbformat_minor": 2
}
