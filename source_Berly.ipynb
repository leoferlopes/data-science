{
 "cells": [
  {
   "cell_type": "markdown",
   "metadata": {
    "deletable": true,
    "editable": true
   },
   "source": [
    "# Análise exploratória dos Microdados do ENADE\n",
    "\n",
    "## Alunos:\n",
    "    - Berly Joaquin\n",
    "    - Leonardo Lopes"
   ]
  },
  {
   "cell_type": "markdown",
   "metadata": {
    "deletable": true,
    "editable": true
   },
   "source": [
    "## Objetivos\n",
    "\n",
    "O objetivo deste trabalho é analisar a série histórica do perfil dos participantes que realizaram a prova do ENADE. O foco será nas informações econômicas, como renda e outros fatores econômicos."
   ]
  },
  {
   "cell_type": "markdown",
   "metadata": {
    "deletable": true,
    "editable": true
   },
   "source": [
    "## Bibliotecas Utilizadas\n",
    "\n",
    "Para a análise feita neste trabalho, utilizamos as bibliotecas **Pandas**, **Numpy** e **Matplotlib** da linguagem Python"
   ]
  },
  {
   "cell_type": "code",
   "execution_count": 1,
   "metadata": {
    "collapsed": true,
    "deletable": true,
    "editable": true
   },
   "outputs": [],
   "source": [
    "import pandas as pd\n",
    "import numpy as np\n",
    "import matplotlib.pyplot as plt"
   ]
  },
  {
   "cell_type": "markdown",
   "metadata": {
    "deletable": true,
    "editable": true
   },
   "source": [
    "## Preparando os dados\n",
    "\n",
    "Na etapa da preparação dos dados, foi necessário tratar as informações obtidas nas bases de dados fornecidas.\n",
    "\n",
    "### Tipos de Informações\n",
    "\n",
    "* **Ano**: representa ano em que o exame foi realizado e está disponível na base de dados na coluna `nu_ano` sem maior necessidade de tratamentos de dados;\n",
    "* **Idade**: análoga à informação de ano, está disponível na base de dados de forma amigável na coluna `nu_idade` e não foi necessário tratar estes dados;\n",
    "* **Renda**: representa a renda da família em número de salários mínimos (independente do ano do exame), foi o tipo de dado que apresentou maiores dificuldades no seu tratamento, uma vez que a informação aparece com diferetes nomes de colunas na base de dados original e seus valores categórios não nos trazem grandes informações de forma imediata. Para tal, transformamos o a informação categórica em dados numéricos (a categoria foi mapeada para seu valor médio)"
   ]
  },
  {
   "cell_type": "code",
   "execution_count": 2,
   "metadata": {
    "collapsed": true,
    "deletable": true,
    "editable": true
   },
   "outputs": [],
   "source": [
    "def clean_data(dataframe, renda, bolsa, dict_renda=None):\n",
    "    new_dataframe = pd.DataFrame(columns=['ano', 'idade'])\n",
    "    new_dataframe['ano'] = dataframe['nu_ano']\n",
    "    new_dataframe['idade'] = dataframe['nu_idade']\n",
    "    new_dataframe['bolsa'] = dataframe[bolsa].str.lower()\n",
    "    \n",
    "    if dict_renda is None:\n",
    "        dict_renda = { 'a': 1.5, 'b': 2.25, 'c': 3.75, 'd': 5.25, 'e': 8.0, 'f': 15.0, 'g': 30.0 }\n",
    "    \n",
    "    r = dataframe[renda].str.lower()\n",
    "    \n",
    "    new_dataframe['renda'] = r.map(dict_renda)\n",
    "    \n",
    "\n",
    "    return new_dataframe"
   ]
  },
  {
   "cell_type": "markdown",
   "metadata": {
    "collapsed": false,
    "deletable": true,
    "editable": true
   },
   "source": [
    "### Obtendo os dados\n",
    "\n",
    "Os dados da base de dados foram obtidos a partir do arquivo .csv de cada ano"
   ]
  },
  {
   "cell_type": "code",
   "execution_count": 3,
   "metadata": {
    "collapsed": false,
    "deletable": true,
    "editable": true
   },
   "outputs": [],
   "source": [
    "dict_renda_2011 = { 'b': 1.5, 'c': 2.25, 'd': 3.75, 'e': 5.25, 'f': 8.0, 'g': 15.0, 'h': 30.0 }\n",
    "\n",
    "df10 = clean_data(pd.read_csv('microdados_enade_2010.csv', encoding='latin1', delimiter=';'), 'QE_I5', 'QE_I10')\n",
    "df11 = clean_data(pd.read_csv('microdados_enade_2011.csv', encoding='latin1', delimiter=';'), 'co_rs_s5','co_rs_s10', dict_renda_2011)\n",
    "df12 = clean_data(pd.read_csv('microdados_enade_2012.csv' ,encoding='latin1', delimiter=';'), 'qe_i5', 'qe_i10')\n",
    "df13 = clean_data(pd.read_csv('microdados_enade_2013.csv', delimiter=';'), 'co_rs_s7', 'co_rs_s10' )\n",
    "df14 = clean_data(pd.read_csv('microdados_enade_2014.csv', delimiter=';', low_memory=False),  'qe_i8', 'qe_i11')\n",
    "\n",
    "dfs = [df10, df11, df12, df13, df14]"
   ]
  },
  {
   "cell_type": "code",
   "execution_count": 4,
   "metadata": {
    "collapsed": false,
    "deletable": true,
    "editable": true
   },
   "outputs": [
    {
     "data": {
      "text/html": [
       "<div>\n",
       "<table border=\"1\" class=\"dataframe\">\n",
       "  <thead>\n",
       "    <tr style=\"text-align: right;\">\n",
       "      <th></th>\n",
       "      <th>ano</th>\n",
       "      <th>idade</th>\n",
       "      <th>renda</th>\n",
       "    </tr>\n",
       "  </thead>\n",
       "  <tbody>\n",
       "    <tr>\n",
       "      <th>count</th>\n",
       "      <td>2.065002e+06</td>\n",
       "      <td>2.065002e+06</td>\n",
       "      <td>1.623011e+06</td>\n",
       "    </tr>\n",
       "    <tr>\n",
       "      <th>mean</th>\n",
       "      <td>2.011970e+03</td>\n",
       "      <td>2.886043e+01</td>\n",
       "      <td>7.189929e+00</td>\n",
       "    </tr>\n",
       "    <tr>\n",
       "      <th>std</th>\n",
       "      <td>1.424391e+00</td>\n",
       "      <td>8.199503e+00</td>\n",
       "      <td>7.126464e+00</td>\n",
       "    </tr>\n",
       "    <tr>\n",
       "      <th>min</th>\n",
       "      <td>2.010000e+03</td>\n",
       "      <td>1.400000e+01</td>\n",
       "      <td>1.500000e+00</td>\n",
       "    </tr>\n",
       "    <tr>\n",
       "      <th>25%</th>\n",
       "      <td>2.011000e+03</td>\n",
       "      <td>2.300000e+01</td>\n",
       "      <td>2.250000e+00</td>\n",
       "    </tr>\n",
       "    <tr>\n",
       "      <th>50%</th>\n",
       "      <td>2.012000e+03</td>\n",
       "      <td>2.600000e+01</td>\n",
       "      <td>5.250000e+00</td>\n",
       "    </tr>\n",
       "    <tr>\n",
       "      <th>75%</th>\n",
       "      <td>2.013000e+03</td>\n",
       "      <td>3.300000e+01</td>\n",
       "      <td>8.000000e+00</td>\n",
       "    </tr>\n",
       "    <tr>\n",
       "      <th>max</th>\n",
       "      <td>2.014000e+03</td>\n",
       "      <td>1.000000e+02</td>\n",
       "      <td>3.000000e+01</td>\n",
       "    </tr>\n",
       "  </tbody>\n",
       "</table>\n",
       "</div>"
      ],
      "text/plain": [
       "                ano         idade         renda\n",
       "count  2.065002e+06  2.065002e+06  1.623011e+06\n",
       "mean   2.011970e+03  2.886043e+01  7.189929e+00\n",
       "std    1.424391e+00  8.199503e+00  7.126464e+00\n",
       "min    2.010000e+03  1.400000e+01  1.500000e+00\n",
       "25%    2.011000e+03  2.300000e+01  2.250000e+00\n",
       "50%    2.012000e+03  2.600000e+01  5.250000e+00\n",
       "75%    2.013000e+03  3.300000e+01  8.000000e+00\n",
       "max    2.014000e+03  1.000000e+02  3.000000e+01"
      ]
     },
     "execution_count": 4,
     "metadata": {},
     "output_type": "execute_result"
    }
   ],
   "source": [
    "df = pd.DataFrame()\n",
    "\n",
    "df = df.append(dfs)\n",
    "\n",
    "df.describe()"
   ]
  },
  {
   "cell_type": "code",
   "execution_count": 5,
   "metadata": {
    "collapsed": false,
    "deletable": true,
    "editable": true
   },
   "outputs": [
    {
     "data": {
      "text/plain": [
       "array([ 15.  ,   3.75,   8.  ,    nan,  30.  ,   5.25,   1.5 ,   2.25])"
      ]
     },
     "execution_count": 5,
     "metadata": {},
     "output_type": "execute_result"
    }
   ],
   "source": [
    "df.renda.unique()"
   ]
  },
  {
   "cell_type": "markdown",
   "metadata": {
    "deletable": true,
    "editable": true
   },
   "source": [
    "### Visualizando a Distribuição dos Dados\n",
    "\n",
    "Para melhorar a visualização dos dados, montamos um bloxplot com os dados da renda dos candidatos do ENADE.\n",
    "\n",
    "Analisando os últimos 5 anos da base, foi possível notar que no ano de 2012 houve um pico nos dados de renda e seus valores estao acima dos dados dos outros anos."
   ]
  },
  {
   "cell_type": "code",
   "execution_count": 6,
   "metadata": {
    "collapsed": false,
    "deletable": true,
    "editable": true
   },
   "outputs": [
    {
     "data": {
      "text/plain": [
       "<matplotlib.axes._subplots.AxesSubplot at 0x1b991787b38>"
      ]
     },
     "execution_count": 6,
     "metadata": {},
     "output_type": "execute_result"
    },
    {
     "data": {
      "image/png": "[encoded data removed]",
      "text/plain": [
       "<matplotlib.figure.Figure at 0x1b9a6f0c438>"
      ]
     },
     "metadata": {},
     "output_type": "display_data"
    }
   ],
   "source": [
    "%matplotlib inline\n",
    "df.boxplot(column='renda', by='ano')"
   ]
  },
  {
   "cell_type": "markdown",
   "metadata": {
    "deletable": true,
    "editable": true
   },
   "source": [
    "Além disso, montamos um histogrma-para a visualização destes dados de outra forma:"
   ]
  },
  {
   "cell_type": "code",
   "execution_count": 7,
   "metadata": {
    "collapsed": false,
    "deletable": true,
    "editable": true
   },
   "outputs": [
    {
     "data": {
      "text/plain": [
       "array([[<matplotlib.axes._subplots.AxesSubplot object at 0x000001B9ADCBA588>,\n",
       "        <matplotlib.axes._subplots.AxesSubplot object at 0x000001B991ABCDD8>],\n",
       "       [<matplotlib.axes._subplots.AxesSubplot object at 0x000001B9ACACE710>,\n",
       "        <matplotlib.axes._subplots.AxesSubplot object at 0x000001B9AC96FFD0>],\n",
       "       [<matplotlib.axes._subplots.AxesSubplot object at 0x000001B9B1574240>,\n",
       "        <matplotlib.axes._subplots.AxesSubplot object at 0x000001B9B1574278>]], dtype=object)"
      ]
     },
     "execution_count": 7,
     "metadata": {},
     "output_type": "execute_result"
    },
    {
     "data": {
      "image/png": "[encoded data removed]",
      "text/plain": [
       "<matplotlib.figure.Figure at 0x1b9915c0320>"
      ]
     },
     "metadata": {},
     "output_type": "display_data"
    }
   ],
   "source": [
    "%matplotlib inline\n",
    "df['renda'].hist(by=df['ano'])"
   ]
  },
  {
   "cell_type": "markdown",
   "metadata": {},
   "source": [
    "Agora vamos a distribucion univariable do dato tipo de bolsa, ao ser um dado categorico faremos uma análise de barra de caracteres.\n",
    "Primeiro defini-los-emos os dicionários que utilizaremos para esta análise"
   ]
  },
  {
   "cell_type": "code",
   "execution_count": 8,
   "metadata": {
    "collapsed": true
   },
   "outputs": [],
   "source": [
    "#dict_bolsa_10_11_12  Esta variable servirá como diccionario para los años 2010, 2011 y 2012   \n",
    "dict_bolsa_10_11_12 = {'a': 'ProUni Integral', \n",
    "                       'b': 'ProUni Parcial', \n",
    "                       'c': 'FIES', \n",
    "                       'd':'ProUni Parcial e FIES',\n",
    "                       'e':'Otra do estado', \n",
    "                       'f':'Ofrecida pela própia instituição de ensino', \n",
    "                       'g': 'Empresa, ONG, etc', \n",
    "                       'h':'Financiamiento pela própia institução de ensino', \n",
    "                       'i':'Financiamento pelo banco privado, etc', \n",
    "                       'j':'Mais de um dos tipos de bolsa ou financiamento citados'}\n",
    "\n",
    "# dict_bolsa_13_14 Esta variable servirá como diccionario para los años 2013 y 2014\n",
    "\n",
    "dict_bolsa_13_14={'a': 'Nenhum, pois meu curso é gratuito',\n",
    "                  'b':'Nenhum, embora meu curso não seja gratuito',\n",
    "                  'c':'ProUni integral', \n",
    "                  'd':'ProUni parcial, apenas',\n",
    "                  'e':'FIES, apenas', 'f': 'ProUni Parcial e FIES',\n",
    "                  'g':'Bolsa oferecida por governo estadual, distrital ou municipal', \n",
    "                  'h' :'Bolsa oferecida pela própria instituição', \n",
    "                  'i':'Bolsa oferecida por outra entidade (empresa, ONG, outra)', \n",
    "                  'j' : 'Financiamento oferecido pela própria instituição',\n",
    "                  'k': 'Financiamento bancário'}\n"
   ]
  },
  {
   "cell_type": "markdown",
   "metadata": {},
   "source": [
    "Uma vez criada as variáveis passaremos ao mapeo para cada dataFrame."
   ]
  },
  {
   "cell_type": "code",
   "execution_count": 9,
   "metadata": {
    "collapsed": true
   },
   "outputs": [],
   "source": [
    "# Mapeo para el ano 2010\n",
    "p10=df10['bolsa'].str.lower()\n",
    "df10['bolsa']=p10.map(dict_bolsa_10_11_12)\n",
    "\n",
    "# Mapeo para el ano 2011\n",
    "p11=df11['bolsa'].str.lower()\n",
    "df11['bolsa']=p11.map(dict_bolsa_10_11_12)\n",
    "\n",
    "# Mapeo para el ano 2012\n",
    "p12=df12['bolsa'].str.lower()\n",
    "df12['bolsa']=p12.map(dict_bolsa_10_11_12)\n",
    "\n",
    "# Mapeo para el ano 2013\n",
    "p13=df13['bolsa'].str.lower()\n",
    "df13['bolsa']=p13.map(dict_bolsa_13_14)\n",
    "\n",
    "# Mapeo para el ano 2014\n",
    "p14=df14['bolsa'].str.lower()\n",
    "df14['bolsa']=p14.map(dict_bolsa_13_14)\n",
    "\n",
    "\n"
   ]
  },
  {
   "cell_type": "markdown",
   "metadata": {},
   "source": [
    "Agora passaremos a plotear mediante um grafico de barras de caracter para observar a distribuição do tipo de carteira pela cada ano."
   ]
  },
  {
   "cell_type": "code",
   "execution_count": 10,
   "metadata": {
    "collapsed": false
   },
   "outputs": [
    {
     "data": {
      "text/plain": [
       "ProUni Parcial e FIES                                       817\n",
       "Mais de um dos tipos de bolsa ou financiamento citados     1125\n",
       "Financiamento pelo banco privado, etc                      1354\n",
       "Financiamiento pela própia institução de ensino            4730\n",
       "ProUni Parcial                                             5110\n",
       "Empresa, ONG, etc                                          5501\n",
       "Otra do estado                                            10404\n",
       "ProUni Integral                                           14003\n",
       "FIES                                                      15725\n",
       "Ofrecida pela própia instituição de ensino                22727\n",
       "Name: bolsa, dtype: int64"
      ]
     },
     "execution_count": 10,
     "metadata": {},
     "output_type": "execute_result"
    }
   ],
   "source": [
    "\n",
    "#------------------------------------- ANO 2010 --------------------------------------------------\n",
    "\n",
    "df10_tot=df10['bolsa'].value_counts(ascending=True)\n",
    "df10_tot\n"
   ]
  },
  {
   "cell_type": "code",
   "execution_count": 11,
   "metadata": {
    "collapsed": false
   },
   "outputs": [
    {
     "data": {
      "text/plain": [
       "<matplotlib.axes._subplots.AxesSubplot at 0x1b99ffd7a58>"
      ]
     },
     "execution_count": 11,
     "metadata": {},
     "output_type": "execute_result"
    },
    {
     "data": {
      "image/png": "[encoded data removed]",
      "text/plain": [
       "<matplotlib.figure.Figure at 0x1b99eafb400>"
      ]
     },
     "metadata": {},
     "output_type": "display_data"
    }
   ],
   "source": [
    "df10_tot.plot.barh()"
   ]
  },
  {
   "cell_type": "code",
   "execution_count": 12,
   "metadata": {
    "collapsed": false
   },
   "outputs": [
    {
     "data": {
      "text/plain": [
       "ProUni Parcial e FIES                                       396\n",
       "Financiamento pelo banco privado, etc                      1345\n",
       "Mais de um dos tipos de bolsa ou financiamento citados     1512\n",
       "Financiamiento pela própia institução de ensino            4011\n",
       "ProUni Parcial                                             5285\n",
       "FIES                                                       5917\n",
       "Empresa, ONG, etc                                          7033\n",
       "ProUni Integral                                           13241\n",
       "Otra do estado                                            14885\n",
       "Ofrecida pela própia instituição de ensino                21684\n",
       "Name: bolsa, dtype: int64"
      ]
     },
     "execution_count": 12,
     "metadata": {},
     "output_type": "execute_result"
    }
   ],
   "source": [
    "\n",
    "#------------------------------------------ ANO 2011---------------------------------------------------\n",
    "\n",
    "df11_tot=df11['bolsa'].value_counts(ascending=True)\n",
    "df11_tot"
   ]
  },
  {
   "cell_type": "code",
   "execution_count": 13,
   "metadata": {
    "collapsed": false
   },
   "outputs": [
    {
     "data": {
      "text/plain": [
       "<matplotlib.axes._subplots.AxesSubplot at 0x1b9c5bf6400>"
      ]
     },
     "execution_count": 13,
     "metadata": {},
     "output_type": "execute_result"
    },
    {
     "data": {
      "image/png": "[encoded data removed]",
      "text/plain": [
       "<matplotlib.figure.Figure at 0x1b9c5c6a588>"
      ]
     },
     "metadata": {},
     "output_type": "display_data"
    }
   ],
   "source": [
    "df11_tot.plot.barh()"
   ]
  },
  {
   "cell_type": "code",
   "execution_count": 14,
   "metadata": {
    "collapsed": false
   },
   "outputs": [
    {
     "data": {
      "text/plain": [
       "ProUni Parcial e FIES                                      1674\n",
       "Mais de um dos tipos de bolsa ou financiamento citados     2798\n",
       "Financiamento pelo banco privado, etc                      2995\n",
       "Financiamiento pela própia institução de ensino            6469\n",
       "ProUni Parcial                                            13661\n",
       "Empresa, ONG, etc                                         18174\n",
       "Otra do estado                                            18247\n",
       "FIES                                                      18601\n",
       "ProUni Integral                                           32203\n",
       "Ofrecida pela própia instituição de ensino                43954\n",
       "Name: bolsa, dtype: int64"
      ]
     },
     "execution_count": 14,
     "metadata": {},
     "output_type": "execute_result"
    }
   ],
   "source": [
    "\n",
    "#------------------------------------------ ANO 2012---------------------------------------------------\n",
    "\n",
    "df12_tot=df12['bolsa'].value_counts(ascending=True)\n",
    "df12_tot\n"
   ]
  },
  {
   "cell_type": "code",
   "execution_count": 15,
   "metadata": {
    "collapsed": false
   },
   "outputs": [
    {
     "data": {
      "text/plain": [
       "<matplotlib.axes._subplots.AxesSubplot at 0x1b9c5c27208>"
      ]
     },
     "execution_count": 15,
     "metadata": {},
     "output_type": "execute_result"
    },
    {
     "data": {
      "image/png": "[encoded data removed]",
      "text/plain": [
       "<matplotlib.figure.Figure at 0x1b99171fdd8>"
      ]
     },
     "metadata": {},
     "output_type": "display_data"
    }
   ],
   "source": [
    "df12_tot.plot.barh()"
   ]
  },
  {
   "cell_type": "code",
   "execution_count": 16,
   "metadata": {
    "collapsed": false
   },
   "outputs": [
    {
     "data": {
      "text/plain": [
       "Financiamento bancário                                           1346\n",
       "ProUni Parcial e FIES                                            1473\n",
       "Financiamento oferecido pela própria instituição                 2731\n",
       "ProUni parcial, apenas                                           3183\n",
       "Bolsa oferecida por outra entidade (empresa, ONG, outra)         3835\n",
       "Bolsa oferecida por governo estadual, distrital ou municipal     5406\n",
       "ProUni integral                                                  9026\n",
       "Bolsa oferecida pela própria instituição                        15877\n",
       "FIES, apenas                                                    18219\n",
       "Nenhum, pois meu curso é gratuito                               35083\n",
       "Nenhum, embora meu curso não seja gratuito                      71392\n",
       "Name: bolsa, dtype: int64"
      ]
     },
     "execution_count": 16,
     "metadata": {},
     "output_type": "execute_result"
    }
   ],
   "source": [
    "\n",
    "#------------------------------------------ ANO 2013---------------------------------------------------\n",
    "\n",
    "def13_tot=df13['bolsa'].value_counts(ascending=True)\n",
    "def13_tot\n"
   ]
  },
  {
   "cell_type": "code",
   "execution_count": 17,
   "metadata": {
    "collapsed": false,
    "scrolled": true
   },
   "outputs": [
    {
     "data": {
      "text/plain": [
       "<matplotlib.axes._subplots.AxesSubplot at 0x1b9c5d51080>"
      ]
     },
     "execution_count": 17,
     "metadata": {},
     "output_type": "execute_result"
    },
    {
     "data": {
      "image/png": "[encoded data removed]",
      "text/plain": [
       "<matplotlib.figure.Figure at 0x1b9c5de9208>"
      ]
     },
     "metadata": {},
     "output_type": "display_data"
    }
   ],
   "source": [
    "def13_tot.plot.barh()"
   ]
  },
  {
   "cell_type": "code",
   "execution_count": 18,
   "metadata": {
    "collapsed": false
   },
   "outputs": [
    {
     "data": {
      "text/plain": [
       "Financiamento bancário                                            2172\n",
       "ProUni Parcial e FIES                                             2949\n",
       "Financiamento oferecido pela própria instituição                  4722\n",
       "ProUni parcial, apenas                                            6676\n",
       "Bolsa oferecida por outra entidade (empresa, ONG, outra)          9196\n",
       "Bolsa oferecida por governo estadual, distrital ou municipal     15785\n",
       "ProUni integral                                                  19970\n",
       "Bolsa oferecida pela própria instituição                         31647\n",
       "FIES, apenas                                                     33658\n",
       "Nenhum, embora meu curso não seja gratuito                      143964\n",
       "Nenhum, pois meu curso é gratuito                               147404\n",
       "Name: bolsa, dtype: int64"
      ]
     },
     "execution_count": 18,
     "metadata": {},
     "output_type": "execute_result"
    }
   ],
   "source": [
    "\n",
    "#------------------------------------------ ANO 2014---------------------------------------------------\n",
    "\n",
    "def14_tot=df14['bolsa'].value_counts(ascending=True)\n",
    "def14_tot\n"
   ]
  },
  {
   "cell_type": "code",
   "execution_count": 19,
   "metadata": {
    "collapsed": false
   },
   "outputs": [
    {
     "data": {
      "text/plain": [
       "<matplotlib.axes._subplots.AxesSubplot at 0x1b9c5e899b0>"
      ]
     },
     "execution_count": 19,
     "metadata": {},
     "output_type": "execute_result"
    },
    {
     "data": {
      "image/png": "[encoded data removed]",
      "text/plain": [
       "<matplotlib.figure.Figure at 0x1b9c5e71f98>"
      ]
     },
     "metadata": {},
     "output_type": "display_data"
    }
   ],
   "source": [
    "def14_tot.plot.barh()"
   ]
  },
  {
   "cell_type": "markdown",
   "metadata": {},
   "source": [
    "Análise Bivariado\n",
    "\n",
    "Agora vamos fazer uma análise Bivariado a nível descrptivo e visual entre as variáveis renda e tipo de bolsa.\n",
    "\n"
   ]
  },
  {
   "cell_type": "code",
   "execution_count": 20,
   "metadata": {
    "collapsed": false
   },
   "outputs": [
    {
     "data": {
      "text/html": [
       "<div>\n",
       "<table border=\"1\" class=\"dataframe\">\n",
       "  <thead>\n",
       "    <tr style=\"text-align: right;\">\n",
       "      <th>renda</th>\n",
       "      <th>1.5</th>\n",
       "      <th>2.25</th>\n",
       "      <th>3.75</th>\n",
       "      <th>5.25</th>\n",
       "      <th>8.0</th>\n",
       "      <th>15.0</th>\n",
       "      <th>30.0</th>\n",
       "    </tr>\n",
       "    <tr>\n",
       "      <th>bolsa</th>\n",
       "      <th></th>\n",
       "      <th></th>\n",
       "      <th></th>\n",
       "      <th></th>\n",
       "      <th></th>\n",
       "      <th></th>\n",
       "      <th></th>\n",
       "    </tr>\n",
       "  </thead>\n",
       "  <tbody>\n",
       "    <tr>\n",
       "      <th>Empresa, ONG, etc</th>\n",
       "      <td>108</td>\n",
       "      <td>403</td>\n",
       "      <td>1651</td>\n",
       "      <td>1403</td>\n",
       "      <td>856</td>\n",
       "      <td>753</td>\n",
       "      <td>298</td>\n",
       "    </tr>\n",
       "    <tr>\n",
       "      <th>FIES</th>\n",
       "      <td>1076</td>\n",
       "      <td>1167</td>\n",
       "      <td>4037</td>\n",
       "      <td>3505</td>\n",
       "      <td>2124</td>\n",
       "      <td>2131</td>\n",
       "      <td>1463</td>\n",
       "    </tr>\n",
       "    <tr>\n",
       "      <th>Financiamento pelo banco privado, etc</th>\n",
       "      <td>55</td>\n",
       "      <td>121</td>\n",
       "      <td>371</td>\n",
       "      <td>294</td>\n",
       "      <td>234</td>\n",
       "      <td>178</td>\n",
       "      <td>88</td>\n",
       "    </tr>\n",
       "    <tr>\n",
       "      <th>Financiamiento pela própia institução de ensino</th>\n",
       "      <td>195</td>\n",
       "      <td>467</td>\n",
       "      <td>1527</td>\n",
       "      <td>1058</td>\n",
       "      <td>619</td>\n",
       "      <td>547</td>\n",
       "      <td>268</td>\n",
       "    </tr>\n",
       "    <tr>\n",
       "      <th>Mais de um dos tipos de bolsa ou financiamento citados</th>\n",
       "      <td>53</td>\n",
       "      <td>124</td>\n",
       "      <td>357</td>\n",
       "      <td>236</td>\n",
       "      <td>149</td>\n",
       "      <td>129</td>\n",
       "      <td>69</td>\n",
       "    </tr>\n",
       "    <tr>\n",
       "      <th>Ofrecida pela própia instituição de ensino</th>\n",
       "      <td>689</td>\n",
       "      <td>2318</td>\n",
       "      <td>7253</td>\n",
       "      <td>5229</td>\n",
       "      <td>2935</td>\n",
       "      <td>2646</td>\n",
       "      <td>1438</td>\n",
       "    </tr>\n",
       "    <tr>\n",
       "      <th>Otra do estado</th>\n",
       "      <td>328</td>\n",
       "      <td>1563</td>\n",
       "      <td>4049</td>\n",
       "      <td>2280</td>\n",
       "      <td>1043</td>\n",
       "      <td>752</td>\n",
       "      <td>339</td>\n",
       "    </tr>\n",
       "    <tr>\n",
       "      <th>ProUni Integral</th>\n",
       "      <td>752</td>\n",
       "      <td>2996</td>\n",
       "      <td>6252</td>\n",
       "      <td>2836</td>\n",
       "      <td>819</td>\n",
       "      <td>307</td>\n",
       "      <td>30</td>\n",
       "    </tr>\n",
       "    <tr>\n",
       "      <th>ProUni Parcial</th>\n",
       "      <td>158</td>\n",
       "      <td>696</td>\n",
       "      <td>2149</td>\n",
       "      <td>1234</td>\n",
       "      <td>513</td>\n",
       "      <td>306</td>\n",
       "      <td>48</td>\n",
       "    </tr>\n",
       "    <tr>\n",
       "      <th>ProUni Parcial e FIES</th>\n",
       "      <td>59</td>\n",
       "      <td>100</td>\n",
       "      <td>309</td>\n",
       "      <td>185</td>\n",
       "      <td>88</td>\n",
       "      <td>60</td>\n",
       "      <td>14</td>\n",
       "    </tr>\n",
       "  </tbody>\n",
       "</table>\n",
       "</div>"
      ],
      "text/plain": [
       "renda                                               1.50   2.25   3.75   \\\n",
       "bolsa                                                                     \n",
       "Empresa, ONG, etc                                     108    403   1651   \n",
       "FIES                                                 1076   1167   4037   \n",
       "Financiamento pelo banco privado, etc                  55    121    371   \n",
       "Financiamiento pela própia institução de ensino       195    467   1527   \n",
       "Mais de um dos tipos de bolsa ou financiamento ...     53    124    357   \n",
       "Ofrecida pela própia instituição de ensino            689   2318   7253   \n",
       "Otra do estado                                        328   1563   4049   \n",
       "ProUni Integral                                       752   2996   6252   \n",
       "ProUni Parcial                                        158    696   2149   \n",
       "ProUni Parcial e FIES                                  59    100    309   \n",
       "\n",
       "renda                                               5.25   8.00   15.00  30.00  \n",
       "bolsa                                                                           \n",
       "Empresa, ONG, etc                                    1403    856    753    298  \n",
       "FIES                                                 3505   2124   2131   1463  \n",
       "Financiamento pelo banco privado, etc                 294    234    178     88  \n",
       "Financiamiento pela própia institução de ensino      1058    619    547    268  \n",
       "Mais de um dos tipos de bolsa ou financiamento ...    236    149    129     69  \n",
       "Ofrecida pela própia instituição de ensino           5229   2935   2646   1438  \n",
       "Otra do estado                                       2280   1043    752    339  \n",
       "ProUni Integral                                      2836    819    307     30  \n",
       "ProUni Parcial                                       1234    513    306     48  \n",
       "ProUni Parcial e FIES                                 185     88     60     14  "
      ]
     },
     "execution_count": 20,
     "metadata": {},
     "output_type": "execute_result"
    }
   ],
   "source": [
    "\n",
    "#------------------------------------------ ANO 2010---------------------------------------------------\n",
    "\n",
    "bi10=pd.crosstab(df10['bolsa'], df10['renda'])\n",
    "bi10"
   ]
  },
  {
   "cell_type": "code",
   "execution_count": 21,
   "metadata": {
    "collapsed": false
   },
   "outputs": [
    {
     "data": {
      "text/plain": [
       "<matplotlib.axes._subplots.AxesSubplot at 0x1b9c5f7d630>"
      ]
     },
     "execution_count": 21,
     "metadata": {},
     "output_type": "execute_result"
    },
    {
     "data": {
      "image/png": "[encoded data removed]",
      "text/plain": [
       "<matplotlib.figure.Figure at 0x1b99d9c7d68>"
      ]
     },
     "metadata": {},
     "output_type": "display_data"
    }
   ],
   "source": [
    "bi10.plot.barh(stacked=True, width=0.7, grid=False)"
   ]
  },
  {
   "cell_type": "code",
   "execution_count": 22,
   "metadata": {
    "collapsed": false
   },
   "outputs": [
    {
     "data": {
      "text/html": [
       "<div>\n",
       "<table border=\"1\" class=\"dataframe\">\n",
       "  <thead>\n",
       "    <tr style=\"text-align: right;\">\n",
       "      <th>renda</th>\n",
       "      <th>1.5</th>\n",
       "      <th>2.25</th>\n",
       "      <th>3.75</th>\n",
       "      <th>5.25</th>\n",
       "      <th>8.0</th>\n",
       "      <th>15.0</th>\n",
       "      <th>30.0</th>\n",
       "    </tr>\n",
       "    <tr>\n",
       "      <th>bolsa</th>\n",
       "      <th></th>\n",
       "      <th></th>\n",
       "      <th></th>\n",
       "      <th></th>\n",
       "      <th></th>\n",
       "      <th></th>\n",
       "      <th></th>\n",
       "    </tr>\n",
       "  </thead>\n",
       "  <tbody>\n",
       "    <tr>\n",
       "      <th>Empresa, ONG, etc</th>\n",
       "      <td>318</td>\n",
       "      <td>1234</td>\n",
       "      <td>1316</td>\n",
       "      <td>1070</td>\n",
       "      <td>1733</td>\n",
       "      <td>1147</td>\n",
       "      <td>95</td>\n",
       "    </tr>\n",
       "    <tr>\n",
       "      <th>FIES</th>\n",
       "      <td>375</td>\n",
       "      <td>1288</td>\n",
       "      <td>1321</td>\n",
       "      <td>893</td>\n",
       "      <td>1227</td>\n",
       "      <td>677</td>\n",
       "      <td>35</td>\n",
       "    </tr>\n",
       "    <tr>\n",
       "      <th>Financiamento pelo banco privado, etc</th>\n",
       "      <td>89</td>\n",
       "      <td>262</td>\n",
       "      <td>250</td>\n",
       "      <td>199</td>\n",
       "      <td>298</td>\n",
       "      <td>188</td>\n",
       "      <td>19</td>\n",
       "    </tr>\n",
       "    <tr>\n",
       "      <th>Financiamiento pela própia institução de ensino</th>\n",
       "      <td>386</td>\n",
       "      <td>1034</td>\n",
       "      <td>848</td>\n",
       "      <td>486</td>\n",
       "      <td>678</td>\n",
       "      <td>444</td>\n",
       "      <td>48</td>\n",
       "    </tr>\n",
       "    <tr>\n",
       "      <th>Mais de um dos tipos de bolsa ou financiamento citados</th>\n",
       "      <td>118</td>\n",
       "      <td>364</td>\n",
       "      <td>327</td>\n",
       "      <td>204</td>\n",
       "      <td>301</td>\n",
       "      <td>151</td>\n",
       "      <td>13</td>\n",
       "    </tr>\n",
       "    <tr>\n",
       "      <th>Ofrecida pela própia instituição de ensino</th>\n",
       "      <td>1646</td>\n",
       "      <td>5446</td>\n",
       "      <td>4632</td>\n",
       "      <td>2944</td>\n",
       "      <td>3823</td>\n",
       "      <td>2521</td>\n",
       "      <td>337</td>\n",
       "    </tr>\n",
       "    <tr>\n",
       "      <th>Otra do estado</th>\n",
       "      <td>1724</td>\n",
       "      <td>5303</td>\n",
       "      <td>3477</td>\n",
       "      <td>1840</td>\n",
       "      <td>1650</td>\n",
       "      <td>634</td>\n",
       "      <td>47</td>\n",
       "    </tr>\n",
       "    <tr>\n",
       "      <th>ProUni Integral</th>\n",
       "      <td>1569</td>\n",
       "      <td>5078</td>\n",
       "      <td>3460</td>\n",
       "      <td>1545</td>\n",
       "      <td>1184</td>\n",
       "      <td>192</td>\n",
       "      <td>3</td>\n",
       "    </tr>\n",
       "    <tr>\n",
       "      <th>ProUni Parcial</th>\n",
       "      <td>427</td>\n",
       "      <td>1704</td>\n",
       "      <td>1386</td>\n",
       "      <td>799</td>\n",
       "      <td>709</td>\n",
       "      <td>216</td>\n",
       "      <td>3</td>\n",
       "    </tr>\n",
       "    <tr>\n",
       "      <th>ProUni Parcial e FIES</th>\n",
       "      <td>39</td>\n",
       "      <td>112</td>\n",
       "      <td>108</td>\n",
       "      <td>57</td>\n",
       "      <td>60</td>\n",
       "      <td>16</td>\n",
       "      <td>0</td>\n",
       "    </tr>\n",
       "  </tbody>\n",
       "</table>\n",
       "</div>"
      ],
      "text/plain": [
       "renda                                               1.50   2.25   3.75   \\\n",
       "bolsa                                                                     \n",
       "Empresa, ONG, etc                                     318   1234   1316   \n",
       "FIES                                                  375   1288   1321   \n",
       "Financiamento pelo banco privado, etc                  89    262    250   \n",
       "Financiamiento pela própia institução de ensino       386   1034    848   \n",
       "Mais de um dos tipos de bolsa ou financiamento ...    118    364    327   \n",
       "Ofrecida pela própia instituição de ensino           1646   5446   4632   \n",
       "Otra do estado                                       1724   5303   3477   \n",
       "ProUni Integral                                      1569   5078   3460   \n",
       "ProUni Parcial                                        427   1704   1386   \n",
       "ProUni Parcial e FIES                                  39    112    108   \n",
       "\n",
       "renda                                               5.25   8.00   15.00  30.00  \n",
       "bolsa                                                                           \n",
       "Empresa, ONG, etc                                    1070   1733   1147     95  \n",
       "FIES                                                  893   1227    677     35  \n",
       "Financiamento pelo banco privado, etc                 199    298    188     19  \n",
       "Financiamiento pela própia institução de ensino       486    678    444     48  \n",
       "Mais de um dos tipos de bolsa ou financiamento ...    204    301    151     13  \n",
       "Ofrecida pela própia instituição de ensino           2944   3823   2521    337  \n",
       "Otra do estado                                       1840   1650    634     47  \n",
       "ProUni Integral                                      1545   1184    192      3  \n",
       "ProUni Parcial                                        799    709    216      3  \n",
       "ProUni Parcial e FIES                                  57     60     16      0  "
      ]
     },
     "execution_count": 22,
     "metadata": {},
     "output_type": "execute_result"
    }
   ],
   "source": [
    "\n",
    "#------------------------------------------ ANO 2011---------------------------------------------------\n",
    "\n",
    "bi11=pd.crosstab(df11['bolsa'], df11['renda'])\n",
    "bi11"
   ]
  },
  {
   "cell_type": "code",
   "execution_count": 23,
   "metadata": {
    "collapsed": false
   },
   "outputs": [
    {
     "data": {
      "text/plain": [
       "<matplotlib.axes._subplots.AxesSubplot at 0x1b9c608fbe0>"
      ]
     },
     "execution_count": 23,
     "metadata": {},
     "output_type": "execute_result"
    },
    {
     "data": {
      "image/png": "[encoded data removed]",
      "text/plain": [
       "<matplotlib.figure.Figure at 0x1b9c61107f0>"
      ]
     },
     "metadata": {},
     "output_type": "display_data"
    }
   ],
   "source": [
    "bi11.plot.barh(stacked=True, width=0.7, grid=False)"
   ]
  },
  {
   "cell_type": "code",
   "execution_count": 24,
   "metadata": {
    "collapsed": false
   },
   "outputs": [
    {
     "data": {
      "text/html": [
       "<div>\n",
       "<table border=\"1\" class=\"dataframe\">\n",
       "  <thead>\n",
       "    <tr style=\"text-align: right;\">\n",
       "      <th>renda</th>\n",
       "      <th>1.5</th>\n",
       "      <th>2.25</th>\n",
       "      <th>3.75</th>\n",
       "      <th>5.25</th>\n",
       "      <th>8.0</th>\n",
       "      <th>15.0</th>\n",
       "      <th>30.0</th>\n",
       "    </tr>\n",
       "    <tr>\n",
       "      <th>bolsa</th>\n",
       "      <th></th>\n",
       "      <th></th>\n",
       "      <th></th>\n",
       "      <th></th>\n",
       "      <th></th>\n",
       "      <th></th>\n",
       "      <th></th>\n",
       "    </tr>\n",
       "  </thead>\n",
       "  <tbody>\n",
       "    <tr>\n",
       "      <th>Empresa, ONG, etc</th>\n",
       "      <td>108</td>\n",
       "      <td>786</td>\n",
       "      <td>3560</td>\n",
       "      <td>4222</td>\n",
       "      <td>3453</td>\n",
       "      <td>4143</td>\n",
       "      <td>1747</td>\n",
       "    </tr>\n",
       "    <tr>\n",
       "      <th>FIES</th>\n",
       "      <td>317</td>\n",
       "      <td>1772</td>\n",
       "      <td>5046</td>\n",
       "      <td>4340</td>\n",
       "      <td>3016</td>\n",
       "      <td>2913</td>\n",
       "      <td>1103</td>\n",
       "    </tr>\n",
       "    <tr>\n",
       "      <th>Financiamento pelo banco privado, etc</th>\n",
       "      <td>30</td>\n",
       "      <td>156</td>\n",
       "      <td>565</td>\n",
       "      <td>642</td>\n",
       "      <td>573</td>\n",
       "      <td>654</td>\n",
       "      <td>333</td>\n",
       "    </tr>\n",
       "    <tr>\n",
       "      <th>Financiamiento pela própia institução de ensino</th>\n",
       "      <td>99</td>\n",
       "      <td>502</td>\n",
       "      <td>1563</td>\n",
       "      <td>1466</td>\n",
       "      <td>1015</td>\n",
       "      <td>1096</td>\n",
       "      <td>611</td>\n",
       "    </tr>\n",
       "    <tr>\n",
       "      <th>Mais de um dos tipos de bolsa ou financiamento citados</th>\n",
       "      <td>45</td>\n",
       "      <td>231</td>\n",
       "      <td>683</td>\n",
       "      <td>657</td>\n",
       "      <td>434</td>\n",
       "      <td>480</td>\n",
       "      <td>231</td>\n",
       "    </tr>\n",
       "    <tr>\n",
       "      <th>Ofrecida pela própia instituição de ensino</th>\n",
       "      <td>471</td>\n",
       "      <td>3134</td>\n",
       "      <td>10444</td>\n",
       "      <td>10103</td>\n",
       "      <td>6952</td>\n",
       "      <td>7823</td>\n",
       "      <td>4281</td>\n",
       "    </tr>\n",
       "    <tr>\n",
       "      <th>Otra do estado</th>\n",
       "      <td>225</td>\n",
       "      <td>2125</td>\n",
       "      <td>5911</td>\n",
       "      <td>4552</td>\n",
       "      <td>2544</td>\n",
       "      <td>2088</td>\n",
       "      <td>702</td>\n",
       "    </tr>\n",
       "    <tr>\n",
       "      <th>ProUni Integral</th>\n",
       "      <td>427</td>\n",
       "      <td>5403</td>\n",
       "      <td>12936</td>\n",
       "      <td>8003</td>\n",
       "      <td>3479</td>\n",
       "      <td>1736</td>\n",
       "      <td>191</td>\n",
       "    </tr>\n",
       "    <tr>\n",
       "      <th>ProUni Parcial</th>\n",
       "      <td>139</td>\n",
       "      <td>1361</td>\n",
       "      <td>4714</td>\n",
       "      <td>3763</td>\n",
       "      <td>2095</td>\n",
       "      <td>1380</td>\n",
       "      <td>199</td>\n",
       "    </tr>\n",
       "    <tr>\n",
       "      <th>ProUni Parcial e FIES</th>\n",
       "      <td>33</td>\n",
       "      <td>245</td>\n",
       "      <td>591</td>\n",
       "      <td>434</td>\n",
       "      <td>193</td>\n",
       "      <td>146</td>\n",
       "      <td>29</td>\n",
       "    </tr>\n",
       "  </tbody>\n",
       "</table>\n",
       "</div>"
      ],
      "text/plain": [
       "renda                                               1.50   2.25   3.75   \\\n",
       "bolsa                                                                     \n",
       "Empresa, ONG, etc                                     108    786   3560   \n",
       "FIES                                                  317   1772   5046   \n",
       "Financiamento pelo banco privado, etc                  30    156    565   \n",
       "Financiamiento pela própia institução de ensino        99    502   1563   \n",
       "Mais de um dos tipos de bolsa ou financiamento ...     45    231    683   \n",
       "Ofrecida pela própia instituição de ensino            471   3134  10444   \n",
       "Otra do estado                                        225   2125   5911   \n",
       "ProUni Integral                                       427   5403  12936   \n",
       "ProUni Parcial                                        139   1361   4714   \n",
       "ProUni Parcial e FIES                                  33    245    591   \n",
       "\n",
       "renda                                               5.25   8.00   15.00  30.00  \n",
       "bolsa                                                                           \n",
       "Empresa, ONG, etc                                    4222   3453   4143   1747  \n",
       "FIES                                                 4340   3016   2913   1103  \n",
       "Financiamento pelo banco privado, etc                 642    573    654    333  \n",
       "Financiamiento pela própia institução de ensino      1466   1015   1096    611  \n",
       "Mais de um dos tipos de bolsa ou financiamento ...    657    434    480    231  \n",
       "Ofrecida pela própia instituição de ensino          10103   6952   7823   4281  \n",
       "Otra do estado                                       4552   2544   2088    702  \n",
       "ProUni Integral                                      8003   3479   1736    191  \n",
       "ProUni Parcial                                       3763   2095   1380    199  \n",
       "ProUni Parcial e FIES                                 434    193    146     29  "
      ]
     },
     "execution_count": 24,
     "metadata": {},
     "output_type": "execute_result"
    }
   ],
   "source": [
    "\n",
    "#------------------------------------------ ANO 2012---------------------------------------------------\n",
    "\n",
    "bi12=pd.crosstab(df12['bolsa'], df12['renda'])\n",
    "bi12\n"
   ]
  },
  {
   "cell_type": "code",
   "execution_count": 25,
   "metadata": {
    "collapsed": false
   },
   "outputs": [
    {
     "data": {
      "text/plain": [
       "<matplotlib.axes._subplots.AxesSubplot at 0x1b9c62a20b8>"
      ]
     },
     "execution_count": 25,
     "metadata": {},
     "output_type": "execute_result"
    },
    {
     "data": {
      "image/png": "[encoded data removed]",
      "text/plain": [
       "<matplotlib.figure.Figure at 0x1b9c62c3eb8>"
      ]
     },
     "metadata": {},
     "output_type": "display_data"
    }
   ],
   "source": [
    "bi12.plot.barh(stacked=True, width=0.7, grid=False)"
   ]
  },
  {
   "cell_type": "code",
   "execution_count": 26,
   "metadata": {
    "collapsed": false
   },
   "outputs": [
    {
     "data": {
      "text/html": [
       "<div>\n",
       "<table border=\"1\" class=\"dataframe\">\n",
       "  <thead>\n",
       "    <tr style=\"text-align: right;\">\n",
       "      <th>renda</th>\n",
       "      <th>1.5</th>\n",
       "      <th>2.25</th>\n",
       "      <th>3.75</th>\n",
       "      <th>5.25</th>\n",
       "      <th>8.0</th>\n",
       "      <th>15.0</th>\n",
       "      <th>30.0</th>\n",
       "    </tr>\n",
       "    <tr>\n",
       "      <th>bolsa</th>\n",
       "      <th></th>\n",
       "      <th></th>\n",
       "      <th></th>\n",
       "      <th></th>\n",
       "      <th></th>\n",
       "      <th></th>\n",
       "      <th></th>\n",
       "    </tr>\n",
       "  </thead>\n",
       "  <tbody>\n",
       "    <tr>\n",
       "      <th>Bolsa oferecida pela própria instituição</th>\n",
       "      <td>2667</td>\n",
       "      <td>4835</td>\n",
       "      <td>3334</td>\n",
       "      <td>2073</td>\n",
       "      <td>1763</td>\n",
       "      <td>1068</td>\n",
       "      <td>118</td>\n",
       "    </tr>\n",
       "    <tr>\n",
       "      <th>Bolsa oferecida por governo estadual, distrital ou municipal</th>\n",
       "      <td>1339</td>\n",
       "      <td>1925</td>\n",
       "      <td>1082</td>\n",
       "      <td>533</td>\n",
       "      <td>335</td>\n",
       "      <td>178</td>\n",
       "      <td>11</td>\n",
       "    </tr>\n",
       "    <tr>\n",
       "      <th>Bolsa oferecida por outra entidade (empresa, ONG, outra)</th>\n",
       "      <td>527</td>\n",
       "      <td>1137</td>\n",
       "      <td>889</td>\n",
       "      <td>543</td>\n",
       "      <td>490</td>\n",
       "      <td>226</td>\n",
       "      <td>21</td>\n",
       "    </tr>\n",
       "    <tr>\n",
       "      <th>FIES, apenas</th>\n",
       "      <td>2840</td>\n",
       "      <td>5062</td>\n",
       "      <td>3542</td>\n",
       "      <td>2425</td>\n",
       "      <td>2343</td>\n",
       "      <td>1765</td>\n",
       "      <td>228</td>\n",
       "    </tr>\n",
       "    <tr>\n",
       "      <th>Financiamento bancário</th>\n",
       "      <td>279</td>\n",
       "      <td>375</td>\n",
       "      <td>235</td>\n",
       "      <td>148</td>\n",
       "      <td>151</td>\n",
       "      <td>113</td>\n",
       "      <td>44</td>\n",
       "    </tr>\n",
       "    <tr>\n",
       "      <th>Financiamento oferecido pela própria instituição</th>\n",
       "      <td>477</td>\n",
       "      <td>835</td>\n",
       "      <td>515</td>\n",
       "      <td>357</td>\n",
       "      <td>341</td>\n",
       "      <td>187</td>\n",
       "      <td>16</td>\n",
       "    </tr>\n",
       "    <tr>\n",
       "      <th>Nenhum, embora meu curso não seja gratuito</th>\n",
       "      <td>10114</td>\n",
       "      <td>16530</td>\n",
       "      <td>12967</td>\n",
       "      <td>9366</td>\n",
       "      <td>10049</td>\n",
       "      <td>9693</td>\n",
       "      <td>2563</td>\n",
       "    </tr>\n",
       "    <tr>\n",
       "      <th>Nenhum, pois meu curso é gratuito</th>\n",
       "      <td>4670</td>\n",
       "      <td>7807</td>\n",
       "      <td>6159</td>\n",
       "      <td>4784</td>\n",
       "      <td>5684</td>\n",
       "      <td>5121</td>\n",
       "      <td>809</td>\n",
       "    </tr>\n",
       "    <tr>\n",
       "      <th>ProUni Parcial e FIES</th>\n",
       "      <td>295</td>\n",
       "      <td>553</td>\n",
       "      <td>335</td>\n",
       "      <td>150</td>\n",
       "      <td>97</td>\n",
       "      <td>37</td>\n",
       "      <td>5</td>\n",
       "    </tr>\n",
       "    <tr>\n",
       "      <th>ProUni integral</th>\n",
       "      <td>2516</td>\n",
       "      <td>4022</td>\n",
       "      <td>1727</td>\n",
       "      <td>514</td>\n",
       "      <td>208</td>\n",
       "      <td>31</td>\n",
       "      <td>4</td>\n",
       "    </tr>\n",
       "    <tr>\n",
       "      <th>ProUni parcial, apenas</th>\n",
       "      <td>724</td>\n",
       "      <td>1284</td>\n",
       "      <td>639</td>\n",
       "      <td>300</td>\n",
       "      <td>185</td>\n",
       "      <td>45</td>\n",
       "      <td>0</td>\n",
       "    </tr>\n",
       "  </tbody>\n",
       "</table>\n",
       "</div>"
      ],
      "text/plain": [
       "renda                                               1.50   2.25   3.75   \\\n",
       "bolsa                                                                     \n",
       "Bolsa oferecida pela própria instituição             2667   4835   3334   \n",
       "Bolsa oferecida por governo estadual, distrital...   1339   1925   1082   \n",
       "Bolsa oferecida por outra entidade (empresa, ON...    527   1137    889   \n",
       "FIES, apenas                                         2840   5062   3542   \n",
       "Financiamento bancário                                279    375    235   \n",
       "Financiamento oferecido pela própria instituição      477    835    515   \n",
       "Nenhum, embora meu curso não seja gratuito          10114  16530  12967   \n",
       "Nenhum, pois meu curso é gratuito                    4670   7807   6159   \n",
       "ProUni Parcial e FIES                                 295    553    335   \n",
       "ProUni integral                                      2516   4022   1727   \n",
       "ProUni parcial, apenas                                724   1284    639   \n",
       "\n",
       "renda                                               5.25   8.00   15.00  30.00  \n",
       "bolsa                                                                           \n",
       "Bolsa oferecida pela própria instituição             2073   1763   1068    118  \n",
       "Bolsa oferecida por governo estadual, distrital...    533    335    178     11  \n",
       "Bolsa oferecida por outra entidade (empresa, ON...    543    490    226     21  \n",
       "FIES, apenas                                         2425   2343   1765    228  \n",
       "Financiamento bancário                                148    151    113     44  \n",
       "Financiamento oferecido pela própria instituição      357    341    187     16  \n",
       "Nenhum, embora meu curso não seja gratuito           9366  10049   9693   2563  \n",
       "Nenhum, pois meu curso é gratuito                    4784   5684   5121    809  \n",
       "ProUni Parcial e FIES                                 150     97     37      5  \n",
       "ProUni integral                                       514    208     31      4  \n",
       "ProUni parcial, apenas                                300    185     45      0  "
      ]
     },
     "execution_count": 26,
     "metadata": {},
     "output_type": "execute_result"
    }
   ],
   "source": [
    "\n",
    "#------------------------------------------ ANO 2013---------------------------------------------------\n",
    "\n",
    "bi13=pd.crosstab(df13['bolsa'], df13['renda'])\n",
    "bi13\n"
   ]
  },
  {
   "cell_type": "code",
   "execution_count": 27,
   "metadata": {
    "collapsed": false
   },
   "outputs": [
    {
     "data": {
      "text/plain": [
       "<matplotlib.axes._subplots.AxesSubplot at 0x1b9cc499f28>"
      ]
     },
     "execution_count": 27,
     "metadata": {},
     "output_type": "execute_result"
    },
    {
     "data": {
      "image/png": "[encoded data removed]",
      "text/plain": [
       "<matplotlib.figure.Figure at 0x1b9c641dac8>"
      ]
     },
     "metadata": {},
     "output_type": "display_data"
    }
   ],
   "source": [
    "bi13.plot.barh(stacked=True, width=0.7, grid=False)"
   ]
  },
  {
   "cell_type": "code",
   "execution_count": 28,
   "metadata": {
    "collapsed": false
   },
   "outputs": [
    {
     "data": {
      "text/html": [
       "<div>\n",
       "<table border=\"1\" class=\"dataframe\">\n",
       "  <thead>\n",
       "    <tr style=\"text-align: right;\">\n",
       "      <th>renda</th>\n",
       "      <th>1.5</th>\n",
       "      <th>2.25</th>\n",
       "      <th>3.75</th>\n",
       "      <th>5.25</th>\n",
       "      <th>8.0</th>\n",
       "      <th>15.0</th>\n",
       "      <th>30.0</th>\n",
       "    </tr>\n",
       "    <tr>\n",
       "      <th>bolsa</th>\n",
       "      <th></th>\n",
       "      <th></th>\n",
       "      <th></th>\n",
       "      <th></th>\n",
       "      <th></th>\n",
       "      <th></th>\n",
       "      <th></th>\n",
       "    </tr>\n",
       "  </thead>\n",
       "  <tbody>\n",
       "    <tr>\n",
       "      <th>Bolsa oferecida pela própria instituição</th>\n",
       "      <td>5699</td>\n",
       "      <td>9234</td>\n",
       "      <td>6449</td>\n",
       "      <td>4095</td>\n",
       "      <td>3876</td>\n",
       "      <td>2063</td>\n",
       "      <td>231</td>\n",
       "    </tr>\n",
       "    <tr>\n",
       "      <th>Bolsa oferecida por governo estadual, distrital ou municipal</th>\n",
       "      <td>3981</td>\n",
       "      <td>5774</td>\n",
       "      <td>3121</td>\n",
       "      <td>1519</td>\n",
       "      <td>1028</td>\n",
       "      <td>342</td>\n",
       "      <td>20</td>\n",
       "    </tr>\n",
       "    <tr>\n",
       "      <th>Bolsa oferecida por outra entidade (empresa, ONG, outra)</th>\n",
       "      <td>941</td>\n",
       "      <td>1971</td>\n",
       "      <td>1923</td>\n",
       "      <td>1604</td>\n",
       "      <td>1879</td>\n",
       "      <td>831</td>\n",
       "      <td>47</td>\n",
       "    </tr>\n",
       "    <tr>\n",
       "      <th>FIES, apenas</th>\n",
       "      <td>6523</td>\n",
       "      <td>10937</td>\n",
       "      <td>7124</td>\n",
       "      <td>4279</td>\n",
       "      <td>3573</td>\n",
       "      <td>1168</td>\n",
       "      <td>54</td>\n",
       "    </tr>\n",
       "    <tr>\n",
       "      <th>Financiamento bancário</th>\n",
       "      <td>514</td>\n",
       "      <td>596</td>\n",
       "      <td>390</td>\n",
       "      <td>276</td>\n",
       "      <td>222</td>\n",
       "      <td>123</td>\n",
       "      <td>51</td>\n",
       "    </tr>\n",
       "    <tr>\n",
       "      <th>Financiamento oferecido pela própria instituição</th>\n",
       "      <td>784</td>\n",
       "      <td>1388</td>\n",
       "      <td>968</td>\n",
       "      <td>634</td>\n",
       "      <td>616</td>\n",
       "      <td>309</td>\n",
       "      <td>23</td>\n",
       "    </tr>\n",
       "    <tr>\n",
       "      <th>Nenhum, embora meu curso não seja gratuito</th>\n",
       "      <td>21421</td>\n",
       "      <td>35388</td>\n",
       "      <td>27325</td>\n",
       "      <td>19851</td>\n",
       "      <td>22404</td>\n",
       "      <td>14924</td>\n",
       "      <td>2651</td>\n",
       "    </tr>\n",
       "    <tr>\n",
       "      <th>Nenhum, pois meu curso é gratuito</th>\n",
       "      <td>32121</td>\n",
       "      <td>40971</td>\n",
       "      <td>25776</td>\n",
       "      <td>16561</td>\n",
       "      <td>18067</td>\n",
       "      <td>12008</td>\n",
       "      <td>1900</td>\n",
       "    </tr>\n",
       "    <tr>\n",
       "      <th>ProUni Parcial e FIES</th>\n",
       "      <td>541</td>\n",
       "      <td>1040</td>\n",
       "      <td>720</td>\n",
       "      <td>366</td>\n",
       "      <td>228</td>\n",
       "      <td>52</td>\n",
       "      <td>2</td>\n",
       "    </tr>\n",
       "    <tr>\n",
       "      <th>ProUni integral</th>\n",
       "      <td>4413</td>\n",
       "      <td>8198</td>\n",
       "      <td>4548</td>\n",
       "      <td>1800</td>\n",
       "      <td>879</td>\n",
       "      <td>124</td>\n",
       "      <td>8</td>\n",
       "    </tr>\n",
       "    <tr>\n",
       "      <th>ProUni parcial, apenas</th>\n",
       "      <td>1215</td>\n",
       "      <td>2337</td>\n",
       "      <td>1554</td>\n",
       "      <td>870</td>\n",
       "      <td>592</td>\n",
       "      <td>108</td>\n",
       "      <td>0</td>\n",
       "    </tr>\n",
       "  </tbody>\n",
       "</table>\n",
       "</div>"
      ],
      "text/plain": [
       "renda                                               1.50   2.25   3.75   \\\n",
       "bolsa                                                                     \n",
       "Bolsa oferecida pela própria instituição             5699   9234   6449   \n",
       "Bolsa oferecida por governo estadual, distrital...   3981   5774   3121   \n",
       "Bolsa oferecida por outra entidade (empresa, ON...    941   1971   1923   \n",
       "FIES, apenas                                         6523  10937   7124   \n",
       "Financiamento bancário                                514    596    390   \n",
       "Financiamento oferecido pela própria instituição      784   1388    968   \n",
       "Nenhum, embora meu curso não seja gratuito          21421  35388  27325   \n",
       "Nenhum, pois meu curso é gratuito                   32121  40971  25776   \n",
       "ProUni Parcial e FIES                                 541   1040    720   \n",
       "ProUni integral                                      4413   8198   4548   \n",
       "ProUni parcial, apenas                               1215   2337   1554   \n",
       "\n",
       "renda                                               5.25   8.00   15.00  30.00  \n",
       "bolsa                                                                           \n",
       "Bolsa oferecida pela própria instituição             4095   3876   2063    231  \n",
       "Bolsa oferecida por governo estadual, distrital...   1519   1028    342     20  \n",
       "Bolsa oferecida por outra entidade (empresa, ON...   1604   1879    831     47  \n",
       "FIES, apenas                                         4279   3573   1168     54  \n",
       "Financiamento bancário                                276    222    123     51  \n",
       "Financiamento oferecido pela própria instituição      634    616    309     23  \n",
       "Nenhum, embora meu curso não seja gratuito          19851  22404  14924   2651  \n",
       "Nenhum, pois meu curso é gratuito                   16561  18067  12008   1900  \n",
       "ProUni Parcial e FIES                                 366    228     52      2  \n",
       "ProUni integral                                      1800    879    124      8  \n",
       "ProUni parcial, apenas                                870    592    108      0  "
      ]
     },
     "execution_count": 28,
     "metadata": {},
     "output_type": "execute_result"
    }
   ],
   "source": [
    "\n",
    "#------------------------------------------ ANO 2014---------------------------------------------------\n",
    "\n",
    "bi14=pd.crosstab(df14['bolsa'], df14['renda'])\n",
    "bi14\n"
   ]
  },
  {
   "cell_type": "code",
   "execution_count": 29,
   "metadata": {
    "collapsed": false
   },
   "outputs": [
    {
     "data": {
      "text/plain": [
       "<matplotlib.axes._subplots.AxesSubplot at 0x1b9cc6a5fd0>"
      ]
     },
     "execution_count": 29,
     "metadata": {},
     "output_type": "execute_result"
    },
    {
     "data": {
      "image/png": "[encoded data removed]",
      "text/plain": [
       "<matplotlib.figure.Figure at 0x1b9cc5bbef0>"
      ]
     },
     "metadata": {},
     "output_type": "display_data"
    }
   ],
   "source": [
    "bi14.plot.barh(stacked=True, width=0.7, grid=False)"
   ]
  },
  {
   "cell_type": "code",
   "execution_count": null,
   "metadata": {
    "collapsed": true
   },
   "outputs": [],
   "source": []
  }
 ],
 "metadata": {
  "kernelspec": {
   "display_name": "Python 3",
   "language": "python",
   "name": "python3"
  },
  "language_info": {
   "codemirror_mode": {
    "name": "ipython",
    "version": 3
   },
   "file_extension": ".py",
   "mimetype": "text/x-python",
   "name": "python",
   "nbconvert_exporter": "python",
   "pygments_lexer": "ipython3",
   "version": "3.6.0"
  }
 },
 "nbformat": 4,
 "nbformat_minor": 2
}
