{
 "cells": [
  {
   "cell_type": "markdown",
   "metadata": {},
   "source": [
    "# Preparação dos dados do Microdados do ENADE para a classificação\n",
    "\n",
    "## Alunos:\n",
    "    - Berly Joaquin\n",
    "    - Leonardo Lopes"
   ]
  },
  {
   "cell_type": "markdown",
   "metadata": {},
   "source": [
    "## Objetivos\n",
    "\n",
    "O objetivo deste script é preparar os dados para serem utilizados em classificadores."
   ]
  },
  {
   "cell_type": "markdown",
   "metadata": {},
   "source": [
    "## Bibliotecas Utilizadas\n",
    "\n",
    "Para a análise feita neste trabalho, utilizamos as bibliotecas **Pandas** e **Numpy** da linguagem Python.\n",
    "Na classificação, foi utilizada a ferramenta **Weka**, um software de mineração de dados escrito em Java, disponível em: http://www.cs.waikato.ac.nz/ml/weka/"
   ]
  },
  {
   "cell_type": "code",
   "execution_count": 1,
   "metadata": {
    "collapsed": true
   },
   "outputs": [],
   "source": [
    "import pandas as pd\n",
    "import numpy as np\n",
    "# import matplotlib.pyplot as plt\n",
    "# import subprocess\n",
    "# from sklearn.tree import DecisionTreeClassifier, export_graphviz"
   ]
  },
  {
   "cell_type": "markdown",
   "metadata": {},
   "source": [
    "## Preparando os dados\n",
    "\n",
    "Na etapa da preparação dos dados, foi necessário tratar as informações obtidas nas bases de dados fornecidas.\n",
    "\n",
    "### Tipos de Informações\n",
    "\n",
    "* **Ano**: representa ano em que o exame foi realizado e está disponível na base de dados na coluna `nu_ano` sem maior necessidade de tratamentos de dados;\n",
    "* **Idade**: análoga à informação de ano, está disponível na base de dados de forma amigável na coluna `nu_idade` e não foi necessário tratar estes dados;\n",
    "* **Curso**: curso do aluno (sempre será Ciência da Computação)\n",
    "* **Renda**: representa a renda da família em número de salários mínimos (independente do ano do exame), foi o tipo de dado que apresentou maiores dificuldades no seu tratamento, uma vez que a informação aparece com diferetes nomes de colunas na base de dados original e seus valores categórios não nos trazem grandes informações de forma imediata. Para tal, transformamos o a informação categórica em dados numéricos (a categoria foi mapeada para seu valor médio)\n",
    "* **Bolsa**: tipo de bolsa do aluno\n",
    "    * a) Nenhum, pois meu curso é gratuito\n",
    "    * b) Nenhum, embora meu curso não seja gratuito\n",
    "    * c) ProUni integral\n",
    "    * d) ProUni parcial, apenas\n",
    "    * e) FIES, apenas\n",
    "    * f) ProUni Parcial e FIES\n",
    "    * g) Bolsa oferecida por governo estadual, distrital ou municipal\n",
    "    * h) Bolsa oferecida pela própria instituição\n",
    "    * i) Bolsa oferecida por outra entidade (empresa, ONG, outra)\n",
    "    * j) Financiamento oferecido pela própria instituição\n",
    "    * k) Financiamento bancário"
   ]
  },
  {
   "cell_type": "code",
   "execution_count": 2,
   "metadata": {
    "collapsed": true
   },
   "outputs": [],
   "source": [
    "dict_select_bolsa_13_14={ 'a': True,\n",
    "                          'b': True,\n",
    "                          'c': True,\n",
    "                          'd': True,\n",
    "                          'e': True,\n",
    "                          'g': True,\n",
    "                          'h': True,\n",
    "                          'i': True,\n",
    "                          'j': True,\n",
    "                          'k': True,\n",
    "}\n"
   ]
  },
  {
   "cell_type": "code",
   "execution_count": 3,
   "metadata": {
    "collapsed": true
   },
   "outputs": [],
   "source": [
    "def clean_data(dataframe, renda, bolsa, dict_renda=None):\n",
    "    new_dataframe = pd.DataFrame(columns=['ano', 'idade'])\n",
    "    new_dataframe['ano'] = dataframe['nu_ano']\n",
    "    new_dataframe['idade'] = dataframe['nu_idade']\n",
    "    new_dataframe['curso'] = dataframe['co_grupo']\n",
    "    new_dataframe['bolsa'] = dataframe[bolsa].str.lower()\n",
    "    \n",
    "    if dict_renda is None:\n",
    "        dict_renda = { 'a': 1.5, 'b': 2.25, 'c': 3.75, 'd': 5.25, 'e': 8.0, 'f': 15.0, 'g': 30.0 }\n",
    "    \n",
    "    r = dataframe[renda].str.lower()\n",
    "    \n",
    "    new_dataframe['renda'] = r.map(dict_renda)\n",
    "    def m(item):\n",
    "        return round(item/20)\n",
    "    new_dataframe['nota'] = dataframe['nt_ger'].map(m)\n",
    "\n",
    "    def f(i):\n",
    "        return dict_select_bolsa_13_14.get(new_dataframe[\"bolsa\"][i], False)\n",
    "\n",
    "    return new_dataframe.select(f)"
   ]
  },
  {
   "cell_type": "markdown",
   "metadata": {},
   "source": [
    "### Obtendo os dados\n",
    "\n",
    "Os dados da base de dados foram obtidos a partir do arquivo .csv de cada ano"
   ]
  },
  {
   "cell_type": "code",
   "execution_count": 4,
   "metadata": {
    "collapsed": true
   },
   "outputs": [],
   "source": [
    "def is_number(s):\n",
    "    try:\n",
    "        f = float(s)\n",
    "        if f >= 0:\n",
    "            return True\n",
    "        return False\n",
    "    except ValueError:\n",
    "        return False\n"
   ]
  },
  {
   "cell_type": "code",
   "execution_count": 5,
   "metadata": {
    "collapsed": true
   },
   "outputs": [],
   "source": [
    "def select_clause(df):\n",
    "    def f(i):\n",
    "        if df[\"co_grupo\"][i] == 4004 and is_number(df[\"nt_ger\"][i]):\n",
    "            return True\n",
    "        else:\n",
    "            return False\n",
    "    return f"
   ]
  },
  {
   "cell_type": "code",
   "execution_count": 6,
   "metadata": {
    "collapsed": true
   },
   "outputs": [],
   "source": [
    "# dict_renda_2011 = { 'b': 1.5, 'c': 2.25, 'd': 3.75, 'e': 5.25, 'f': 8.0, 'g': 15.0, 'h': 30.0 }\n",
    "\n",
    "# df10 = clean_data(pd.read_csv('microdados_enade_2010.csv', encoding='latin1', delimiter=';'), 'QE_I5', 'QE_I10')\n",
    "# df11 = clean_data(pd.read_csv('microdados_enade_2011.csv', encoding='latin1', delimiter=';'), 'co_rs_s5','co_rs_s10', dict_renda_2011)\n",
    "# df12 = clean_data(pd.read_csv('microdados_enade_2012.csv' ,encoding='latin1', delimiter=';'), 'qe_i5', 'qe_i10')\n",
    "# df13 = clean_data(pd.read_csv('microdados_enade_2013.csv', delimiter=';'), 'co_rs_s7', 'co_rs_s10' )\n",
    "data = pd.read_csv('microdados_enade_2014.csv', delimiter=';', low_memory=False)\n",
    "df14 = clean_data(data.select(select_clause(data)),  'qe_i8', 'qe_i11')\n",
    "df = df14\n",
    "\n",
    "# dfs = [df10, df11, df12, df13, df14]"
   ]
  },
  {
   "cell_type": "code",
   "execution_count": 7,
   "metadata": {},
   "outputs": [
    {
     "data": {
      "text/html": [
       "<div>\n",
       "<style>\n",
       "    .dataframe thead tr:only-child th {\n",
       "        text-align: right;\n",
       "    }\n",
       "\n",
       "    .dataframe thead th {\n",
       "        text-align: left;\n",
       "    }\n",
       "\n",
       "    .dataframe tbody tr th {\n",
       "        vertical-align: top;\n",
       "    }\n",
       "</style>\n",
       "<table border=\"1\" class=\"dataframe\">\n",
       "  <thead>\n",
       "    <tr style=\"text-align: right;\">\n",
       "      <th></th>\n",
       "      <th>ano</th>\n",
       "      <th>idade</th>\n",
       "      <th>curso</th>\n",
       "      <th>renda</th>\n",
       "      <th>nota</th>\n",
       "    </tr>\n",
       "  </thead>\n",
       "  <tbody>\n",
       "    <tr>\n",
       "      <th>count</th>\n",
       "      <td>8174.00</td>\n",
       "      <td>8174.00</td>\n",
       "      <td>8174.00</td>\n",
       "      <td>8174.00</td>\n",
       "      <td>8174.00</td>\n",
       "    </tr>\n",
       "    <tr>\n",
       "      <th>mean</th>\n",
       "      <td>2014.00</td>\n",
       "      <td>25.28</td>\n",
       "      <td>4004.00</td>\n",
       "      <td>6.55</td>\n",
       "      <td>2.23</td>\n",
       "    </tr>\n",
       "    <tr>\n",
       "      <th>std</th>\n",
       "      <td>0.00</td>\n",
       "      <td>4.39</td>\n",
       "      <td>0.00</td>\n",
       "      <td>5.25</td>\n",
       "      <td>0.74</td>\n",
       "    </tr>\n",
       "    <tr>\n",
       "      <th>min</th>\n",
       "      <td>2014.00</td>\n",
       "      <td>18.00</td>\n",
       "      <td>4004.00</td>\n",
       "      <td>1.50</td>\n",
       "      <td>0.00</td>\n",
       "    </tr>\n",
       "    <tr>\n",
       "      <th>25%</th>\n",
       "      <td>2014.00</td>\n",
       "      <td>22.00</td>\n",
       "      <td>4004.00</td>\n",
       "      <td>2.25</td>\n",
       "      <td>2.00</td>\n",
       "    </tr>\n",
       "    <tr>\n",
       "      <th>50%</th>\n",
       "      <td>2014.00</td>\n",
       "      <td>24.00</td>\n",
       "      <td>4004.00</td>\n",
       "      <td>5.25</td>\n",
       "      <td>2.00</td>\n",
       "    </tr>\n",
       "    <tr>\n",
       "      <th>75%</th>\n",
       "      <td>2014.00</td>\n",
       "      <td>27.00</td>\n",
       "      <td>4004.00</td>\n",
       "      <td>8.00</td>\n",
       "      <td>3.00</td>\n",
       "    </tr>\n",
       "    <tr>\n",
       "      <th>max</th>\n",
       "      <td>2014.00</td>\n",
       "      <td>65.00</td>\n",
       "      <td>4004.00</td>\n",
       "      <td>30.00</td>\n",
       "      <td>5.00</td>\n",
       "    </tr>\n",
       "  </tbody>\n",
       "</table>\n",
       "</div>"
      ],
      "text/plain": [
       "          ano   idade   curso   renda    nota\n",
       "count 8174.00 8174.00 8174.00 8174.00 8174.00\n",
       "mean  2014.00   25.28 4004.00    6.55    2.23\n",
       "std      0.00    4.39    0.00    5.25    0.74\n",
       "min   2014.00   18.00 4004.00    1.50    0.00\n",
       "25%   2014.00   22.00 4004.00    2.25    2.00\n",
       "50%   2014.00   24.00 4004.00    5.25    2.00\n",
       "75%   2014.00   27.00 4004.00    8.00    3.00\n",
       "max   2014.00   65.00 4004.00   30.00    5.00"
      ]
     },
     "execution_count": 7,
     "metadata": {},
     "output_type": "execute_result"
    }
   ],
   "source": [
    "# df = pd.DataFrame()\n",
    "\n",
    "# df = df.append(dfs)\n",
    "pd.options.display.float_format = '{:.2f}'.format\n",
    "\n",
    "df.describe()"
   ]
  },
  {
   "cell_type": "code",
   "execution_count": 8,
   "metadata": {
    "collapsed": true
   },
   "outputs": [],
   "source": [
    "df.to_csv(path_or_buf='output.csv')"
   ]
  },
  {
   "cell_type": "code",
   "execution_count": 9,
   "metadata": {
    "collapsed": true
   },
   "outputs": [],
   "source": [
    "# dict_bolsa_13_14 Esta variavel servirá como dicionario para os anos 2013 e 2014\n",
    "\n",
    "dict_bolsa_13_14={'a': 'Nenhum, pois meu curso é gratuito',\n",
    "                  'b':'Nenhum, embora meu curso não seja gratuito',\n",
    "                  'c':'ProUni integral', \n",
    "                  'd':'ProUni parcial, apenas',\n",
    "                  'e':'FIES, apenas', 'f': 'ProUni Parcial e FIES',\n",
    "                  'g':'Bolsa oferecida por governo estadual, distrital ou municipal', \n",
    "                  'h' :'Bolsa oferecida pela própria instituição', \n",
    "                  'i':'Bolsa oferecida por outra entidade (empresa, ONG, outra)', \n",
    "                  'j' : 'Financiamento oferecido pela própria instituição',\n",
    "                  'k': 'Financiamento bancário'}\n"
   ]
  }
 ],
 "metadata": {
  "kernelspec": {
   "display_name": "Python 3",
   "language": "python",
   "name": "python3"
  },
  "language_info": {
   "codemirror_mode": {
    "name": "ipython",
    "version": 3
   },
   "file_extension": ".py",
   "mimetype": "text/x-python",
   "name": "python",
   "nbconvert_exporter": "python",
   "pygments_lexer": "ipython3",
   "version": "3.5.2"
  }
 },
 "nbformat": 4,
 "nbformat_minor": 2
}
